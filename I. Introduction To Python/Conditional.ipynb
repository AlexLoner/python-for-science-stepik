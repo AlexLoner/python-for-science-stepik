{
 "cells": [
  {
   "cell_type": "markdown",
   "metadata": {
    "id": "DWNq3twkBwWX",
    "slideshow": {
     "slide_type": "slide"
    }
   },
   "source": [
    "## Логические значения\n",
    "<!-- Прежде чем переходить к операторам ветвления в Python остановимся более подробно на логических операторах и их принципах работы. -->"
   ]
  },
  {
   "cell_type": "markdown",
   "metadata": {
    "slideshow": {
     "slide_type": "fragment"
    }
   },
   "source": [
    "Логический тип `bool` представляет две константы True и False. Понятия \"Истина\" и \"Ложь\" в Python имеют несколько иное, более широкое понятие. \n",
    "* Любое число отличное от нуля, а также любой непустой объект трактуется как истина\n",
    "* Пустые объекты, нуль и специальный объект None - ложные значения\n",
    "* Операции сравнения и проверки на равенство возвращают значение True или False"
   ]
  },
  {
   "cell_type": "code",
   "execution_count": 1,
   "metadata": {
    "id": "8zaiEcXwBwWX",
    "slideshow": {
     "slide_type": "-"
    }
   },
   "outputs": [
    {
     "data": {
      "text/plain": [
       "bool"
      ]
     },
     "execution_count": 1,
     "metadata": {},
     "output_type": "execute_result"
    }
   ],
   "source": [
    "type(True)"
   ]
  },
  {
   "cell_type": "markdown",
   "metadata": {
    "slideshow": {
     "slide_type": "skip"
    }
   },
   "source": [
    "Логический тип `bool` представляет две константы True и False, отражающие истинное и ложное понятия соответственно. Однако сами понятия \"Истина\" и \"Ложь\" в Python имеют несколько иное, более широкое понятие, нежели\n",
    "в других языках программирования. \n",
    "* Любое число отличное от нуля, а также любой непустой объект трактуется как истина\n",
    "* Пустые объекты, нуль и специальный объект None - ложные значения\n",
    "* Операции сравнения и проверки на равенство возвращают значение True или False"
   ]
  },
  {
   "cell_type": "markdown",
   "metadata": {
    "slideshow": {
     "slide_type": "subslide"
    }
   },
   "source": [
    "#### Логические операторы\n",
    "В Python существуют три основных логических оператора \n",
    "* `or` - логическое ИЛИ возвращает истину, если хотя бы один из объектов истина\n",
    "* `and` - логическое И возвращает истину только когда все объекты истинные\n",
    "* `not` - логическое НЕ обращает ложь в истину и наоборот"
   ]
  },
  {
   "cell_type": "code",
   "execution_count": 2,
   "metadata": {
    "id": "Azl0GImzBwWX",
    "slideshow": {
     "slide_type": "-"
    }
   },
   "outputs": [
    {
     "data": {
      "text/plain": [
       "True"
      ]
     },
     "execution_count": 2,
     "metadata": {},
     "output_type": "execute_result"
    }
   ],
   "source": [
    "True or False"
   ]
  },
  {
   "cell_type": "code",
   "execution_count": 3,
   "metadata": {
    "id": "PL5w51wWBwWY",
    "slideshow": {
     "slide_type": "-"
    }
   },
   "outputs": [
    {
     "data": {
      "text/plain": [
       "False"
      ]
     },
     "execution_count": 3,
     "metadata": {},
     "output_type": "execute_result"
    }
   ],
   "source": [
    "True and False"
   ]
  },
  {
   "cell_type": "code",
   "execution_count": 4,
   "metadata": {
    "id": "PL5w51wWBwWY",
    "scrolled": true,
    "slideshow": {
     "slide_type": "-"
    }
   },
   "outputs": [
    {
     "data": {
      "text/plain": [
       "True"
      ]
     },
     "execution_count": 4,
     "metadata": {},
     "output_type": "execute_result"
    }
   ],
   "source": [
    "not False"
   ]
  },
  {
   "cell_type": "markdown",
   "metadata": {
    "slideshow": {
     "slide_type": "subslide"
    }
   },
   "source": [
    "В Python присутствует необычное поведение логических операторов. Рассмотрим на примере"
   ]
  },
  {
   "cell_type": "code",
   "execution_count": 5,
   "metadata": {},
   "outputs": [],
   "source": [
    "a = ''\n",
    "b = 10\n",
    "c = 1"
   ]
  },
  {
   "cell_type": "code",
   "execution_count": 6,
   "metadata": {
    "slideshow": {
     "slide_type": "fragment"
    }
   },
   "outputs": [
    {
     "data": {
      "text/plain": [
       "10"
      ]
     },
     "execution_count": 6,
     "metadata": {},
     "output_type": "execute_result"
    }
   ],
   "source": [
    "a or b or c"
   ]
  },
  {
   "cell_type": "markdown",
   "metadata": {
    "slideshow": {
     "slide_type": "skip"
    }
   },
   "source": [
    "Казалось бы результатом сравнения этих переменных должен быть либо True, либо False. В действительности же возвращаемое значение будет равняться 10. Это происходит потому, что на самом деле оператор `or` возвращает один объект из двух, а именно первый не пустой объект. \n",
    "\n",
    "Тоже самое касается и оператора `and`. Данный оператор возвращает либо первый ложный объект, либо последний истинный, если выражение дает истину"
   ]
  },
  {
   "cell_type": "code",
   "execution_count": 7,
   "metadata": {
    "slideshow": {
     "slide_type": "fragment"
    }
   },
   "outputs": [
    {
     "data": {
      "text/plain": [
       "''"
      ]
     },
     "execution_count": 7,
     "metadata": {},
     "output_type": "execute_result"
    }
   ],
   "source": [
    "a and c"
   ]
  },
  {
   "cell_type": "code",
   "execution_count": 8,
   "metadata": {
    "slideshow": {
     "slide_type": "fragment"
    }
   },
   "outputs": [
    {
     "data": {
      "text/plain": [
       "12"
      ]
     },
     "execution_count": 8,
     "metadata": {},
     "output_type": "execute_result"
    }
   ],
   "source": [
    "b and 12"
   ]
  },
  {
   "cell_type": "markdown",
   "metadata": {
    "slideshow": {
     "slide_type": "slide"
    }
   },
   "source": [
    "## Операторы ветвления"
   ]
  },
  {
   "cell_type": "markdown",
   "metadata": {
    "id": "kgp6FzYjBwWY",
    "slideshow": {
     "slide_type": "skip"
    }
   },
   "source": [
    "Операторы ветвления в программировании используются в тех случаях, когда в зависимости от выполнения или невыполнения какого-либо условия `condition` должны выполняться разные части кода программы. Как и во многих других языках программирования, оператор ветвления в Python задается ключевым словом `if`.\n",
    "\n",
    "Формат оператора `if` в общем виде:"
   ]
  },
  {
   "cell_type": "markdown",
   "metadata": {
    "id": "kgp6FzYjBwWY",
    "slideshow": {
     "slide_type": "fragment"
    }
   },
   "source": [
    "```python\n",
    "if condition:\n",
    "    some code here\n",
    "elif condition:\n",
    "    some code here\n",
    "else:\n",
    "    some code here\n",
    "```"
   ]
  },
  {
   "cell_type": "markdown",
   "metadata": {
    "id": "kgp6FzYjBwWY",
    "slideshow": {
     "slide_type": "skip"
    }
   },
   "source": [
    "После ключевого слова `if` задается простое или составное условие, при истинности которого выполняется соответствующий ему блок кода, выделенный отступом. Python поддерживает процедуру множественного ветвления, для этой цели есть инструкция `elif`. Часть кода, содержащаяся в блоке `else`, выполняется в том случае, если ни одно из условий перед этим не приняло значение True. Инструкции `elif` и `else` не являются обязательными при использовании `if`."
   ]
  },
  {
   "cell_type": "markdown",
   "metadata": {
    "slideshow": {
     "slide_type": "subslide"
    }
   },
   "source": [
    "#### Примеры использования"
   ]
  },
  {
   "cell_type": "markdown",
   "metadata": {
    "slideshow": {
     "slide_type": "skip"
    }
   },
   "source": [
    "Рассмотрим простейший пример использования условного оператора. Допустим у нас есть переменная $x$, которая считывается с клавиатуры. Наша \"программа\" имеет три варианта продолжения в зависимости от введенного значения x:"
   ]
  },
  {
   "cell_type": "code",
   "execution_count": null,
   "metadata": {
    "id": "OA1J5tOMBwWZ",
    "slideshow": {
     "slide_type": "fragment"
    }
   },
   "outputs": [],
   "source": [
    "x = float(input())\n",
    "if x > 5:\n",
    "    print('x > 5')\n",
    "elif x == 5:\n",
    "    print('x = 5')\n",
    "else:\n",
    "    print('x < 5')"
   ]
  },
  {
   "cell_type": "markdown",
   "metadata": {
    "slideshow": {
     "slide_type": "skip"
    }
   },
   "source": [
    "Если вариантов продолжения всего два, то можно использовать более короткий вариант записи (так называемый тернарный условный оператор):"
   ]
  },
  {
   "cell_type": "code",
   "execution_count": null,
   "metadata": {
    "slideshow": {
     "slide_type": "fragment"
    }
   },
   "outputs": [],
   "source": [
    "x = float(input())\n",
    "print('x == 1') if x == 1 else print('x != 1')"
   ]
  }
 ],
 "metadata": {
  "celltoolbar": "Слайд-шоу",
  "colab": {
   "name": "Introduction.ipynb",
   "provenance": []
  },
  "kernelspec": {
   "display_name": "Python 3 (ipykernel)",
   "language": "python",
   "name": "python3"
  },
  "language_info": {
   "codemirror_mode": {
    "name": "ipython",
    "version": 3
   },
   "file_extension": ".py",
   "mimetype": "text/x-python",
   "name": "python",
   "nbconvert_exporter": "python",
   "pygments_lexer": "ipython3",
   "version": "3.9.12"
  }
 },
 "nbformat": 4,
 "nbformat_minor": 1
}
