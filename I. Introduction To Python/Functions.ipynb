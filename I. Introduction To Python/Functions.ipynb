{
 "cells": [
  {
   "cell_type": "markdown",
   "metadata": {
    "slideshow": {
     "slide_type": "slide"
    }
   },
   "source": [
    "## Функции\n",
    "\n",
    "Основная цель использования функций - избавиться от дублирования кода в программе. Помимо этого, использование функций делает код лаконичным и упрощает его понимание."
   ]
  },
  {
   "cell_type": "markdown",
   "metadata": {
    "id": "FA0xz1LzBwWc",
    "slideshow": {
     "slide_type": "subslide"
    }
   },
   "source": [
    "### Встроенные функции\n",
    "Python предоставляет набор [встроенных функций](https://docs.python.org/3/library/functions.html) доступных по умолчанию. Это набор полезных операций и команд, часто используемых программистами. Рассмотрим некоторые из них\n",
    "\n",
    "Функция `len` вычисляет длину коллекции (количество элементов)"
   ]
  },
  {
   "cell_type": "code",
   "execution_count": 1,
   "metadata": {
    "id": "V4ZGICKTBwWc",
    "slideshow": {
     "slide_type": "-"
    }
   },
   "outputs": [
    {
     "data": {
      "text/plain": [
       "4"
      ]
     },
     "execution_count": 1,
     "metadata": {},
     "output_type": "execute_result"
    }
   ],
   "source": [
    "len('abcd')"
   ]
  },
  {
   "cell_type": "markdown",
   "metadata": {
    "slideshow": {
     "slide_type": "fragment"
    }
   },
   "source": [
    "Функция `print` выводит объект на экран"
   ]
  },
  {
   "cell_type": "code",
   "execution_count": 2,
   "metadata": {
    "id": "ARs6okDDBwWc",
    "slideshow": {
     "slide_type": "-"
    }
   },
   "outputs": [
    {
     "name": "stdout",
     "output_type": "stream",
     "text": [
      "a\n"
     ]
    }
   ],
   "source": [
    "print('a')"
   ]
  },
  {
   "cell_type": "markdown",
   "metadata": {
    "slideshow": {
     "slide_type": "fragment"
    }
   },
   "source": [
    "Функция `abs` вычисляет модуль числа"
   ]
  },
  {
   "cell_type": "code",
   "execution_count": 3,
   "metadata": {
    "id": "fyLaQoSTBwWd",
    "slideshow": {
     "slide_type": "-"
    }
   },
   "outputs": [
    {
     "data": {
      "text/plain": [
       "4"
      ]
     },
     "execution_count": 3,
     "metadata": {},
     "output_type": "execute_result"
    }
   ],
   "source": [
    "abs(-4)"
   ]
  },
  {
   "cell_type": "markdown",
   "metadata": {
    "slideshow": {
     "slide_type": "fragment"
    }
   },
   "source": [
    "Функция `sum` суммирует числовую последовательность"
   ]
  },
  {
   "cell_type": "code",
   "execution_count": 4,
   "metadata": {
    "id": "YrnfSOKgBwWd",
    "slideshow": {
     "slide_type": "-"
    }
   },
   "outputs": [
    {
     "data": {
      "text/plain": [
       "10"
      ]
     },
     "execution_count": 4,
     "metadata": {},
     "output_type": "execute_result"
    }
   ],
   "source": [
    "sum([1, 2, 3, 4])"
   ]
  },
  {
   "cell_type": "markdown",
   "metadata": {
    "id": "TDv7sMsIBwWd",
    "slideshow": {
     "slide_type": "-"
    }
   },
   "source": [
    "Остальные встроенные функции [здесь](https://docs.python.org/3/library/functions.html)"
   ]
  },
  {
   "cell_type": "markdown",
   "metadata": {
    "id": "YA58OBefBwWd",
    "slideshow": {
     "slide_type": "subslide"
    }
   },
   "source": [
    "### Объявление функции\n",
    "Можно создавать и свои функции. Для объявления функции используется инструкция `def`, далее следует название функции, и в круглых скобках передаются необходимые аргументы `arguments`.\n",
    "\n",
    "Далее в теле функции, которое выделяется отступом, перечисляется набор неоходимых команд. И для возвращения результата работы используется ключевое слово `return`\n",
    "\n",
    "**Общий вид** \n",
    "```python\n",
    "def function_name(arguments):\n",
    "    #some code here\n",
    "    return <value>\n",
    "```\n",
    "\n",
    "В данном случае функция f принимает в качестве агрумента переменную $x$, добавляет к ней 2 и возвращает новое значение обратно."
   ]
  },
  {
   "cell_type": "code",
   "execution_count": 5,
   "metadata": {
    "id": "Qyy8Eo3IBwWe",
    "slideshow": {
     "slide_type": "-"
    }
   },
   "outputs": [],
   "source": [
    "def f(x):\n",
    "    y = x + 2\n",
    "    return y"
   ]
  },
  {
   "cell_type": "code",
   "execution_count": 6,
   "metadata": {
    "id": "0Zp8mT-aBwWe",
    "slideshow": {
     "slide_type": "fragment"
    }
   },
   "outputs": [
    {
     "data": {
      "text/plain": [
       "3"
      ]
     },
     "execution_count": 6,
     "metadata": {},
     "output_type": "execute_result"
    }
   ],
   "source": [
    "f(1)"
   ]
  },
  {
   "cell_type": "markdown",
   "metadata": {
    "slideshow": {
     "slide_type": "fragment"
    }
   },
   "source": [
    "Функция может принимать бесконечное число аргументов, а может и не иметь ни одного:"
   ]
  },
  {
   "cell_type": "code",
   "execution_count": 7,
   "metadata": {
    "id": "Go-meuwcBwWe",
    "slideshow": {
     "slide_type": "fragment"
    }
   },
   "outputs": [],
   "source": [
    "def name_func():\n",
    "    return 'I am function'"
   ]
  },
  {
   "cell_type": "code",
   "execution_count": 8,
   "metadata": {
    "id": "4hh9Vuy6BwWe",
    "slideshow": {
     "slide_type": "fragment"
    }
   },
   "outputs": [
    {
     "data": {
      "text/plain": [
       "'I am function'"
      ]
     },
     "execution_count": 8,
     "metadata": {},
     "output_type": "execute_result"
    }
   ],
   "source": [
    "name_func()"
   ]
  },
  {
   "cell_type": "markdown",
   "metadata": {
    "slideshow": {
     "slide_type": "slide"
    }
   },
   "source": [
    "Ключевое слово `return` не является обязательным. Оно необходимо, если в дальнейшем нужно вернуть результат ее работы. Рассмотрим следующий пример. В этом случае функция `mult` печатает результат перемножения двух чисел, но не возвращает его, так как ключевого слова `return` нет. В этом случае Python возвращает объект None."
   ]
  },
  {
   "cell_type": "code",
   "execution_count": 9,
   "metadata": {
    "id": "GEG4j2zVBwWe",
    "slideshow": {
     "slide_type": "-"
    }
   },
   "outputs": [],
   "source": [
    "def mult(x, y):\n",
    "    print(x * y)"
   ]
  },
  {
   "cell_type": "code",
   "execution_count": 10,
   "metadata": {
    "id": "OoYiicN5BwWf",
    "slideshow": {
     "slide_type": "-"
    }
   },
   "outputs": [
    {
     "name": "stdout",
     "output_type": "stream",
     "text": [
      "2\n",
      "None\n"
     ]
    }
   ],
   "source": [
    "a = mult(1, 2)\n",
    "print(a)"
   ]
  },
  {
   "cell_type": "markdown",
   "metadata": {
    "slideshow": {
     "slide_type": "fragment"
    }
   },
   "source": [
    "В этом примере в программе есть ключевое слово `return`, и в переменную `a` возвращается результат работы функции."
   ]
  },
  {
   "cell_type": "code",
   "execution_count": 11,
   "metadata": {
    "id": "18Kgey7KBwWf",
    "slideshow": {
     "slide_type": "-"
    }
   },
   "outputs": [],
   "source": [
    "def mult(x, y):\n",
    "    print(x * y)\n",
    "    return x * y"
   ]
  },
  {
   "cell_type": "code",
   "execution_count": 12,
   "metadata": {
    "id": "8gzVstTbBwWf",
    "slideshow": {
     "slide_type": "-"
    }
   },
   "outputs": [
    {
     "name": "stdout",
     "output_type": "stream",
     "text": [
      "2\n",
      "2\n"
     ]
    }
   ],
   "source": [
    "a = mult(1, 2)\n",
    "print(a)"
   ]
  },
  {
   "cell_type": "markdown",
   "metadata": {
    "slideshow": {
     "slide_type": "skip"
    }
   },
   "source": [
    "Как видно использование ключевого слова `return` необязательное, и его можно не писать, если, например, задача функции состоит в изменении чего-либо \"на месте\" (изменение элементов списка, например). В таком случае инструкция `return` существует неявно и возвращается значение `None`."
   ]
  },
  {
   "cell_type": "markdown",
   "metadata": {
    "slideshow": {
     "slide_type": "slide"
    }
   },
   "source": [
    "В Python есть возможность задать значение аргумента функции по умолчанию\n",
    "\n",
    "В этом примере агрумент `c` принимает значение 1 по умолчанию и дает возможность не писать его в агрументы функции при вызове, если это значение по умолчанию нас устраивает. Такие агрументы называют именованными, а без значения по умолчанию - порядковыми"
   ]
  },
  {
   "cell_type": "code",
   "execution_count": 13,
   "metadata": {
    "id": "85Y9QuH8BwWg",
    "slideshow": {
     "slide_type": "-"
    }
   },
   "outputs": [],
   "source": [
    "def pew(a, b, c=1):\n",
    "    return a + b - c"
   ]
  },
  {
   "cell_type": "code",
   "execution_count": 14,
   "metadata": {
    "id": "LG81-_wcBwWh",
    "slideshow": {
     "slide_type": "-"
    }
   },
   "outputs": [
    {
     "data": {
      "text/plain": [
       "2"
      ]
     },
     "execution_count": 14,
     "metadata": {},
     "output_type": "execute_result"
    }
   ],
   "source": [
    "pew(1, 2)"
   ]
  },
  {
   "cell_type": "markdown",
   "metadata": {
    "slideshow": {
     "slide_type": "fragment"
    }
   },
   "source": [
    "Если же нам нужно переопределить это значение, то нужно просто передать ему новое в соответствии с его порядковым нормером или указав явно."
   ]
  },
  {
   "cell_type": "code",
   "execution_count": 15,
   "metadata": {
    "id": "Xlkie2HFBwWh",
    "slideshow": {
     "slide_type": "-"
    }
   },
   "outputs": [
    {
     "data": {
      "text/plain": [
       "0"
      ]
     },
     "execution_count": 15,
     "metadata": {},
     "output_type": "execute_result"
    }
   ],
   "source": [
    "pew(1, 2, 3)"
   ]
  },
  {
   "cell_type": "code",
   "execution_count": 16,
   "metadata": {
    "id": "X4rrpAuVBwWh",
    "slideshow": {
     "slide_type": "-"
    }
   },
   "outputs": [
    {
     "data": {
      "text/plain": [
       "3"
      ]
     },
     "execution_count": 16,
     "metadata": {},
     "output_type": "execute_result"
    }
   ],
   "source": [
    "pew(c=2, a=2, b=3)"
   ]
  },
  {
   "cell_type": "markdown",
   "metadata": {
    "slideshow": {
     "slide_type": "slide"
    }
   },
   "source": [
    "#### \\* args и \\*\\* kwargs\n",
    "Функцию можно задавать с произвольным числом порядковых и (или) именованных агрументов через операторы `*` и `**`. \n",
    "\n",
    "Создадим функцию с произвольным количеством порядковых аргументов. В данном случае оператор `*` ставится перед ожидаемой переменной. Сами переданные значения приходят в переменную `args` в виде кортежа"
   ]
  },
  {
   "cell_type": "code",
   "execution_count": 17,
   "metadata": {
    "id": "PlmN1CLdBwWh",
    "slideshow": {
     "slide_type": "-"
    }
   },
   "outputs": [],
   "source": [
    "def f(*args):\n",
    "    print(args)\n",
    "    return args[0] + args[1]"
   ]
  },
  {
   "cell_type": "code",
   "execution_count": 18,
   "metadata": {
    "id": "WfXxVMcWBwWi",
    "slideshow": {
     "slide_type": "-"
    }
   },
   "outputs": [
    {
     "name": "stdout",
     "output_type": "stream",
     "text": [
      "(1, 2, 3, 4, 5)\n"
     ]
    },
    {
     "data": {
      "text/plain": [
       "3"
      ]
     },
     "execution_count": 18,
     "metadata": {},
     "output_type": "execute_result"
    }
   ],
   "source": [
    "f(1, 2, 3, 4, 5)"
   ]
  },
  {
   "cell_type": "markdown",
   "metadata": {
    "slideshow": {
     "slide_type": "fragment"
    }
   },
   "source": [
    "Переменная `args` является просто переменной, это не ключевое слово, поэтому ее можно заменять на любую другую, ключевым здесь является оператор `*`"
   ]
  },
  {
   "cell_type": "code",
   "execution_count": 19,
   "metadata": {
    "id": "xKNzG9bGBwWi",
    "slideshow": {
     "slide_type": "-"
    }
   },
   "outputs": [],
   "source": [
    "def f(*a):\n",
    "    print(a)\n",
    "    return a[0] * a[1], 10 * a[2], a[3], a[4]"
   ]
  },
  {
   "cell_type": "code",
   "execution_count": 20,
   "metadata": {
    "id": "dSxzfnBTBwWi",
    "slideshow": {
     "slide_type": "-"
    }
   },
   "outputs": [
    {
     "name": "stdout",
     "output_type": "stream",
     "text": [
      "(1, 2, 3, 4, 5)\n"
     ]
    },
    {
     "data": {
      "text/plain": [
       "(2, 30, 4, 5)"
      ]
     },
     "execution_count": 20,
     "metadata": {},
     "output_type": "execute_result"
    }
   ],
   "source": [
    "f(1, 2, 3, 4, 5)"
   ]
  },
  {
   "cell_type": "markdown",
   "metadata": {
    "slideshow": {
     "slide_type": "subslide"
    }
   },
   "source": [
    "Аналогично можно создать функцию с бесконечным числом именованных агрументов, воспользовавшись оператором `**`. Разница будет в том, что теперь в переменной `kwargs` будет не кортеж, а словарь из переданных аргументов."
   ]
  },
  {
   "cell_type": "code",
   "execution_count": 21,
   "metadata": {
    "id": "3T_6SYs8BwWj",
    "slideshow": {
     "slide_type": "-"
    }
   },
   "outputs": [],
   "source": [
    "def f(**kwargs):   \n",
    "    print(kwargs)\n",
    "    print(kwargs['a'], kwargs['b'])"
   ]
  },
  {
   "cell_type": "code",
   "execution_count": 22,
   "metadata": {
    "id": "QNsvVX8EBwWj",
    "outputId": "a683bb03-0492-421e-ae4f-14fb424533f5",
    "slideshow": {
     "slide_type": "-"
    }
   },
   "outputs": [
    {
     "name": "stdout",
     "output_type": "stream",
     "text": [
      "{'a': 1, 'b': 3}\n",
      "1 3\n"
     ]
    }
   ],
   "source": [
    "f(a=1, b=3)"
   ]
  },
  {
   "cell_type": "markdown",
   "metadata": {
    "slideshow": {
     "slide_type": "skip"
    }
   },
   "source": [
    "Возможны и более гибкие способы задания функций. Например, для функции `f` помимо  двух обязательных порядковых аргументов `y` и `r` и одного именованного агрумента `j`, который по умолчанию равен десяти, также возможно передать любое количество дополнительных порядковых и именованных аргументов"
   ]
  },
  {
   "cell_type": "code",
   "execution_count": 23,
   "metadata": {
    "id": "AdMReVrKBwWj",
    "slideshow": {
     "slide_type": "subslide"
    }
   },
   "outputs": [],
   "source": [
    "def f(r, y, *a, j=10, **kwargs):\n",
    "    print(r, y)\n",
    "    print(kwargs)    \n",
    "    print(a)\n",
    "    print(j)"
   ]
  },
  {
   "cell_type": "code",
   "execution_count": 24,
   "metadata": {
    "id": "LuqRPAioBwWk",
    "outputId": "c34f3c0f-588c-4281-ff1c-f1c9eb695fc3",
    "slideshow": {
     "slide_type": "-"
    }
   },
   "outputs": [
    {
     "name": "stdout",
     "output_type": "stream",
     "text": [
      "678 677777\n",
      "{'b': 1, 't': 3}\n",
      "()\n",
      "ghjg\n"
     ]
    }
   ],
   "source": [
    "f(678, 677777, j='ghjg', b=1, t=3)"
   ]
  },
  {
   "cell_type": "markdown",
   "metadata": {
    "slideshow": {
     "slide_type": "subslide"
    }
   },
   "source": [
    "Функционал оператора `*` не ограничивается операциями группировки аргументов в функции, умножения. Этот оператор также можно использовать при распаковке значений."
   ]
  },
  {
   "cell_type": "markdown",
   "metadata": {
    "slideshow": {
     "slide_type": "skip"
    }
   },
   "source": [
    "Здесь нам важно, что функция `f` возвращает кортеж из четырех элементов. Очевидно, мы можем записать весь вывод в одну переменную и дальше работать с ней, можем записать в четыре разных переменных, чтобы работать с каждым элементов в отдельности."
   ]
  },
  {
   "cell_type": "code",
   "execution_count": 25,
   "metadata": {
    "id": "z8NSQFYWBwWi",
    "slideshow": {
     "slide_type": "fragment"
    }
   },
   "outputs": [
    {
     "name": "stdout",
     "output_type": "stream",
     "text": [
      "2 30 4 5\n"
     ]
    }
   ],
   "source": [
    "def f(*a):\n",
    "    return a[0] * a[1], 10 * a[2], a[3], a[4]\n",
    "\n",
    "a, b, c, d = f(1, 2, 3, 4, 5)\n",
    "print(a, b, c, d)"
   ]
  },
  {
   "cell_type": "markdown",
   "metadata": {
    "slideshow": {
     "slide_type": "skip"
    }
   },
   "source": [
    " Но что если нам нужно два центральных числа (`b` и `c`) записать в одну переменную `p`? Сделать это возможно тем же оператором `*`, который в данном случае работает как распаковщик"
   ]
  },
  {
   "cell_type": "code",
   "execution_count": 26,
   "metadata": {
    "id": "out0e0QeBwWj",
    "outputId": "517e838e-764a-4e2f-d57c-48cfa980a467",
    "slideshow": {
     "slide_type": "fragment"
    }
   },
   "outputs": [
    {
     "data": {
      "text/plain": [
       "[30, 4]"
      ]
     },
     "execution_count": 26,
     "metadata": {},
     "output_type": "execute_result"
    }
   ],
   "source": [
    "a, *p, d = f(1, 2, 3, 4, 5)\n",
    "p"
   ]
  },
  {
   "cell_type": "markdown",
   "metadata": {
    "slideshow": {
     "slide_type": "slide"
    }
   },
   "source": [
    "### Области видимости \n",
    "\n",
    "Под областью видимости мы будем понимать некоторое пространство имен переменных в коде. Так как в Python переменные не задаются заранее, то имена переменных привязываются к тому пространству имен, где было проведено присваивание. \n",
    "\n",
    "<!-- До использования функций все наши операции происходили на самом высоком уровне пространств имен - глобальном. При объявлении переменных внутри каждой функции будут создаваться локальные области видимости.  -->"
   ]
  },
  {
   "cell_type": "markdown",
   "metadata": {
    "slideshow": {
     "slide_type": "skip"
    }
   },
   "source": [
    "Начнем с простого. В данном примере мы создали две переменные с именем `a`: первую в глобальной области видимости, вторую - локально внутри функции `func`. Присваивание `a = 10` происходит внутри функции, где автоматически создается свое локальное пространство имен, поэтому конфликта не происходит."
   ]
  },
  {
   "cell_type": "code",
   "execution_count": 27,
   "metadata": {
    "slideshow": {
     "slide_type": "fragment"
    }
   },
   "outputs": [
    {
     "name": "stdout",
     "output_type": "stream",
     "text": [
      "10\n",
      "1\n"
     ]
    }
   ],
   "source": [
    "a = 1 \n",
    "def func():\n",
    "    a = 10\n",
    "    print(a)\n",
    "func()\n",
    "print(a)"
   ]
  },
  {
   "cell_type": "markdown",
   "metadata": {
    "slideshow": {
     "slide_type": "subslide"
    }
   },
   "source": [
    "В python в общем случае принято различать 4 уровня области видимости:\n",
    "\n",
    "1. Встроенная область видимости - в нее входят зарезервированые имена и встроенные функции. Такие как `len`, `print` \n",
    "\n",
    "2. Глобальная или модульная - имена, определенный в основном модуле программы\n",
    "\n",
    "3. Локальные области видимости объемлющих функций - подразумевается, что функции могут объявляться внутри других функций. Функцию, внутри которой объявляется другая функция, называется объемлющей. Соответственно их локальные области видимости как бы вкладываются друг в  друга, то есть появляется дополнительный слой \n",
    "\n",
    "4. Локальные области видимости функций"
   ]
  },
  {
   "cell_type": "markdown",
   "metadata": {
    "slideshow": {
     "slide_type": "skip"
    }
   },
   "source": [
    "Рассмотрим пример, где мы пытаемся вывести на экран переменную `a`, которая не объявляется внутри нашей функции. Однако она была объявлена раньше в глобальной области видимости, поэтому интерпретатор, не найдя `a` внутри функции `func`, ищет ее на уровне выше и выводит ее значение"
   ]
  },
  {
   "cell_type": "code",
   "execution_count": 28,
   "metadata": {
    "slideshow": {
     "slide_type": "subslide"
    }
   },
   "outputs": [
    {
     "name": "stdout",
     "output_type": "stream",
     "text": [
      "cat_123\n",
      "cat\n"
     ]
    }
   ],
   "source": [
    "a = 'cat'\n",
    "def func():\n",
    "    print(a + \"_123\")\n",
    "func()\n",
    "print(a)"
   ]
  },
  {
   "cell_type": "markdown",
   "metadata": {
    "slideshow": {
     "slide_type": "skip"
    }
   },
   "source": [
    "Однако если мы попытаемся внутри нашей функции изменить значение переменной `a`, то мы получим следующую ошибку "
   ]
  },
  {
   "cell_type": "code",
   "execution_count": 29,
   "metadata": {
    "slideshow": {
     "slide_type": "fragment"
    }
   },
   "outputs": [
    {
     "ename": "UnboundLocalError",
     "evalue": "local variable 'a' referenced before assignment",
     "output_type": "error",
     "traceback": [
      "\u001b[1;31m---------------------------------------------------------------------------\u001b[0m",
      "\u001b[1;31mUnboundLocalError\u001b[0m                         Traceback (most recent call last)",
      "Input \u001b[1;32mIn [29]\u001b[0m, in \u001b[0;36m<cell line: 5>\u001b[1;34m()\u001b[0m\n\u001b[0;32m      3\u001b[0m     a \u001b[38;5;241m=\u001b[39m a \u001b[38;5;241m+\u001b[39m \u001b[38;5;124m\"\u001b[39m\u001b[38;5;124m_123\u001b[39m\u001b[38;5;124m\"\u001b[39m\n\u001b[0;32m      4\u001b[0m     \u001b[38;5;28;01mreturn\u001b[39;00m a\n\u001b[1;32m----> 5\u001b[0m \u001b[43mfunc\u001b[49m\u001b[43m(\u001b[49m\u001b[43m)\u001b[49m\n",
      "Input \u001b[1;32mIn [29]\u001b[0m, in \u001b[0;36mfunc\u001b[1;34m()\u001b[0m\n\u001b[0;32m      2\u001b[0m \u001b[38;5;28;01mdef\u001b[39;00m \u001b[38;5;21mfunc\u001b[39m():\n\u001b[1;32m----> 3\u001b[0m     a \u001b[38;5;241m=\u001b[39m \u001b[43ma\u001b[49m \u001b[38;5;241m+\u001b[39m \u001b[38;5;124m\"\u001b[39m\u001b[38;5;124m_123\u001b[39m\u001b[38;5;124m\"\u001b[39m\n\u001b[0;32m      4\u001b[0m     \u001b[38;5;28;01mreturn\u001b[39;00m a\n",
      "\u001b[1;31mUnboundLocalError\u001b[0m: local variable 'a' referenced before assignment"
     ]
    }
   ],
   "source": [
    "a = 'cat'\n",
    "def func():\n",
    "    a = a + \"_123\"\n",
    "    return a\n",
    "func()"
   ]
  },
  {
   "cell_type": "code",
   "execution_count": 30,
   "metadata": {
    "slideshow": {
     "slide_type": "fragment"
    }
   },
   "outputs": [
    {
     "data": {
      "text/plain": [
       "'cat_123'"
      ]
     },
     "execution_count": 30,
     "metadata": {},
     "output_type": "execute_result"
    }
   ],
   "source": [
    "a = 'cat'\n",
    "def func():\n",
    "    global a\n",
    "    a = a + \"_123\"\n",
    "    return a\n",
    "func()"
   ]
  },
  {
   "cell_type": "markdown",
   "metadata": {
    "slideshow": {
     "slide_type": "skip"
    }
   },
   "source": [
    "Происходит это из-за устройства операции присваивания. В строке 3 мы пытаемся изменить локальную переменную `a`, записав в нее `a` + `\"_123\"`. Сама по себе эта операция обозначает, что мы имеем локальную переменную `a`, которую мы захотили переопределить. А так как ранее такой переменной нами не было объявлено, то мы получили ошибку о том, что пытаемся использовать переменную до ее создания. \n",
    "\n",
    "Чтобы наша функция заработала можно, либо передать переменную `a` в аргументах функции, либо использовать инструкцию `global` "
   ]
  },
  {
   "cell_type": "markdown",
   "metadata": {
    "slideshow": {
     "slide_type": "subslide"
    }
   },
   "source": [
    "### Вложенное простанство имен. Инструкция `nonlocal`\n",
    "\n",
    "Давайте рассмотрим пример со вложенным пространством имен. Создадим глобальную переменную `a = 1`. Далее, определим внешнюю функцию `outer_func`, внутри которой создадим еще одну функцию `inner_func` и локальную переменную `a = 80`. Внутри функции `inner_func` при попытке изменить значение переменной `a` мы получим уже знакомую ошибку об использовании переменной прежде ее создания."
   ]
  },
  {
   "cell_type": "code",
   "execution_count": 31,
   "metadata": {},
   "outputs": [
    {
     "ename": "UnboundLocalError",
     "evalue": "local variable 'a' referenced before assignment",
     "output_type": "error",
     "traceback": [
      "\u001b[1;31m---------------------------------------------------------------------------\u001b[0m",
      "\u001b[1;31mUnboundLocalError\u001b[0m                         Traceback (most recent call last)",
      "Input \u001b[1;32mIn [31]\u001b[0m, in \u001b[0;36m<cell line: 11>\u001b[1;34m()\u001b[0m\n\u001b[0;32m      8\u001b[0m     temp \u001b[38;5;241m=\u001b[39m inner_func()\n\u001b[0;32m      9\u001b[0m     \u001b[38;5;28;01mreturn\u001b[39;00m temp\n\u001b[1;32m---> 11\u001b[0m \u001b[43mouter_func\u001b[49m\u001b[43m(\u001b[49m\u001b[43m)\u001b[49m\n",
      "Input \u001b[1;32mIn [31]\u001b[0m, in \u001b[0;36mouter_func\u001b[1;34m()\u001b[0m\n\u001b[0;32m      6\u001b[0m     a \u001b[38;5;241m=\u001b[39m \u001b[38;5;241m2\u001b[39m \u001b[38;5;241m*\u001b[39m a\n\u001b[0;32m      7\u001b[0m     \u001b[38;5;28;01mreturn\u001b[39;00m a\n\u001b[1;32m----> 8\u001b[0m temp \u001b[38;5;241m=\u001b[39m \u001b[43minner_func\u001b[49m\u001b[43m(\u001b[49m\u001b[43m)\u001b[49m\n\u001b[0;32m      9\u001b[0m \u001b[38;5;28;01mreturn\u001b[39;00m temp\n",
      "Input \u001b[1;32mIn [31]\u001b[0m, in \u001b[0;36mouter_func.<locals>.inner_func\u001b[1;34m()\u001b[0m\n\u001b[0;32m      5\u001b[0m \u001b[38;5;28;01mdef\u001b[39;00m \u001b[38;5;21minner_func\u001b[39m():\n\u001b[1;32m----> 6\u001b[0m     a \u001b[38;5;241m=\u001b[39m \u001b[38;5;241m2\u001b[39m \u001b[38;5;241m*\u001b[39m \u001b[43ma\u001b[49m\n\u001b[0;32m      7\u001b[0m     \u001b[38;5;28;01mreturn\u001b[39;00m a\n",
      "\u001b[1;31mUnboundLocalError\u001b[0m: local variable 'a' referenced before assignment"
     ]
    }
   ],
   "source": [
    "a = 1\n",
    "\n",
    "def outer_func():\n",
    "    a = 80\n",
    "    def inner_func():\n",
    "        a = 2 * a\n",
    "        return a\n",
    "    temp = inner_func()\n",
    "    return temp\n",
    "\n",
    "outer_func()"
   ]
  },
  {
   "cell_type": "markdown",
   "metadata": {
    "slideshow": {
     "slide_type": "subslide"
    }
   },
   "source": [
    "Используя инструкцию `global` мы получим доступ к переменной `a` на глобальном уровне видимости. "
   ]
  },
  {
   "cell_type": "code",
   "execution_count": 32,
   "metadata": {
    "slideshow": {
     "slide_type": "-"
    }
   },
   "outputs": [
    {
     "data": {
      "text/plain": [
       "2"
      ]
     },
     "execution_count": 32,
     "metadata": {},
     "output_type": "execute_result"
    }
   ],
   "source": [
    "a = 1\n",
    "\n",
    "def outer_func():\n",
    "    a = 80\n",
    "    def inner_func():\n",
    "        global a\n",
    "        a = 2 * a\n",
    "        return a\n",
    "    temp = inner_func()\n",
    "    return temp\n",
    "\n",
    "outer_func()"
   ]
  },
  {
   "cell_type": "markdown",
   "metadata": {
    "slideshow": {
     "slide_type": "subslide"
    }
   },
   "source": [
    "Но что если нам нужна переменная внутри объемлющей функции `outer_func`? В таком случае можно воспользоваться инструкцией `nonlocal`, которая укажет, что следует использовать переменную `a` в оборачивающей нашу функцию `inner_func` функции `outer_func`."
   ]
  },
  {
   "cell_type": "code",
   "execution_count": 33,
   "metadata": {
    "slideshow": {
     "slide_type": "-"
    }
   },
   "outputs": [
    {
     "data": {
      "text/plain": [
       "160"
      ]
     },
     "execution_count": 33,
     "metadata": {},
     "output_type": "execute_result"
    }
   ],
   "source": [
    "a = 1\n",
    "\n",
    "def outer_func():\n",
    "    a = 80\n",
    "    def inner_func():\n",
    "        nonlocal a\n",
    "        a = 2 * a\n",
    "        return a\n",
    "    temp = inner_func()\n",
    "    return temp\n",
    "\n",
    "outer_func()"
   ]
  },
  {
   "cell_type": "markdown",
   "metadata": {
    "id": "3VHdM-0ABwWk",
    "slideshow": {
     "slide_type": "slide"
    }
   },
   "source": [
    "### Лямбда функции\n",
    "\n",
    "Существует альтернатива инструкции `def` для задания функции, используемая для уменьшения размера кода. Речь идет о безымянных функциях или лямбда-функциях. Безымянная функция определяется ключевым словом `lambda`, после которого идут аргументы функции, а далее ее тело:\n",
    "\n",
    "```python\n",
    "lambda arguments: <some code>\n",
    "```\n",
    "\n",
    "В основном  лямбда-функции применяют, когда сама функция может быть записана в одну или несколько строк, а использование классического `def` приводит к раздуванию кода."
   ]
  },
  {
   "cell_type": "code",
   "execution_count": 34,
   "metadata": {
    "id": "noBqv9sZBwWk",
    "slideshow": {
     "slide_type": "fragment"
    }
   },
   "outputs": [],
   "source": [
    "my_func = lambda x, y: x + y # анонимные / лямбда функции"
   ]
  },
  {
   "cell_type": "code",
   "execution_count": 35,
   "metadata": {
    "id": "qjQACouZBwWl",
    "outputId": "4310fdde-384c-4963-fbe2-16b8a42df15b",
    "slideshow": {
     "slide_type": "-"
    }
   },
   "outputs": [
    {
     "data": {
      "text/plain": [
       "21"
      ]
     },
     "execution_count": 35,
     "metadata": {},
     "output_type": "execute_result"
    }
   ],
   "source": [
    "my_func(10, 11)"
   ]
  },
  {
   "cell_type": "markdown",
   "metadata": {
    "slideshow": {
     "slide_type": "skip"
    }
   },
   "source": [
    "Попробуем продемонстрировать удобство лямбда-функций на следующем примере. Пусть имеется следующий массив из набора кортежей"
   ]
  },
  {
   "cell_type": "code",
   "execution_count": 36,
   "metadata": {
    "slideshow": {
     "slide_type": "subslide"
    }
   },
   "outputs": [],
   "source": [
    "lst = [(5, 'a'), (3, 'c'), (1, 'e'), (2, 'd'), (4, 'b')]"
   ]
  },
  {
   "cell_type": "markdown",
   "metadata": {
    "slideshow": {
     "slide_type": "skip"
    }
   },
   "source": [
    "и нам необходимо отсортировать этот массив по второму значению в кортеже, то есть по алфавиту. Сделать это можно разными способами. Здесь мы используем встроенную  функцию `sorted` и ее аргумент `key`, в который можно передать функцию, задающую порядок сортировки.\n",
    "\n",
    "Обычное применение функции не дает нужного результата"
   ]
  },
  {
   "cell_type": "code",
   "execution_count": 37,
   "metadata": {
    "slideshow": {
     "slide_type": "-"
    }
   },
   "outputs": [
    {
     "data": {
      "text/plain": [
       "[(1, 'e'), (2, 'd'), (3, 'c'), (4, 'b'), (5, 'a')]"
      ]
     },
     "execution_count": 37,
     "metadata": {},
     "output_type": "execute_result"
    }
   ],
   "source": [
    "sorted(lst)"
   ]
  },
  {
   "cell_type": "markdown",
   "metadata": {
    "slideshow": {
     "slide_type": "fragment"
    }
   },
   "source": [
    "Для того, чтобы отсортировать список специальным образом нужно переопределить именованный агрумент `key` функции `sorted`, который ожидает функцию указывающую как именно должен быть отсортирован список"
   ]
  },
  {
   "cell_type": "code",
   "execution_count": 38,
   "metadata": {},
   "outputs": [
    {
     "data": {
      "text/plain": [
       "[(5, 'a'), (4, 'b'), (3, 'c'), (2, 'd'), (1, 'e')]"
      ]
     },
     "execution_count": 38,
     "metadata": {},
     "output_type": "execute_result"
    }
   ],
   "source": [
    "def order(element):\n",
    "    return element[1]\n",
    "\n",
    "sorted(lst, key=order)"
   ]
  },
  {
   "cell_type": "markdown",
   "metadata": {
    "slideshow": {
     "slide_type": "fragment"
    }
   },
   "source": [
    "То же самое с лямбда-функцией"
   ]
  },
  {
   "cell_type": "code",
   "execution_count": 39,
   "metadata": {},
   "outputs": [
    {
     "data": {
      "text/plain": [
       "[(5, 'a'), (4, 'b'), (3, 'c'), (2, 'd'), (1, 'e')]"
      ]
     },
     "execution_count": 39,
     "metadata": {},
     "output_type": "execute_result"
    }
   ],
   "source": [
    "sorted(lst, key=lambda x: x[1])"
   ]
  }
 ],
 "metadata": {
  "celltoolbar": "Слайд-шоу",
  "colab": {
   "name": "Introduction.ipynb",
   "provenance": []
  },
  "kernelspec": {
   "display_name": "Python 3 (ipykernel)",
   "language": "python",
   "name": "python3"
  },
  "language_info": {
   "codemirror_mode": {
    "name": "ipython",
    "version": 3
   },
   "file_extension": ".py",
   "mimetype": "text/x-python",
   "name": "python",
   "nbconvert_exporter": "python",
   "pygments_lexer": "ipython3",
   "version": "3.9.12"
  }
 },
 "nbformat": 4,
 "nbformat_minor": 1
}
