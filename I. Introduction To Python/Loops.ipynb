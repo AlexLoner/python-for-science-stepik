{
 "cells": [
  {
   "cell_type": "markdown",
   "metadata": {
    "font-size": 8,
    "slideshow": {
     "slide_type": "slide"
    }
   },
   "source": [
    "## Циклы\n",
    "\n",
    "В Python доступны два стандартных цикла `while` и `for` - инструкции, которые повторяют одно и то же действие снова и снова.\n",
    "\n",
    "Мы начнем изучение циклов с инструкции `while`. Конструкция открывается ключевым словом `while`, после которого следует проверка входного условия. Если условие срабатывает, то программа начнет исполнять код внутри конструкции. По достижении конца блока условие на входе цикла проверяется вновь"
   ]
  },
  {
   "cell_type": "markdown",
   "metadata": {
    "id": "TokD0ZMrBwWZ",
    "slideshow": {
     "slide_type": "subslide"
    }
   },
   "source": [
    "```python \n",
    "while condition:\n",
    "    <some code here>\n",
    "```"
   ]
  },
  {
   "cell_type": "markdown",
   "metadata": {
    "slideshow": {
     "slide_type": "skip"
    }
   },
   "source": [
    "Посмотрим на примере. Пусть у нас имеется переменная $x = 1$. Далее проверяется условие на входе в цикл и так как действительно $1 != 5$, то интерпретатор заходит во вложеный блок кода. Далее, к $x$ будет добавлена двойка, и напечатано значение  $x$ на экран. После этого вновь проверится условие на входе и так как $3 != 5$,то все операции будут проделаны еще раз. Теперь $x = 5$, и входное условие не выполнится, программа завершится"
   ]
  },
  {
   "cell_type": "code",
   "execution_count": 1,
   "metadata": {
    "id": "DidORufIBwWZ",
    "slideshow": {
     "slide_type": "fragment"
    }
   },
   "outputs": [
    {
     "name": "stdout",
     "output_type": "stream",
     "text": [
      "3\n",
      "5\n"
     ]
    }
   ],
   "source": [
    "x = 1\n",
    "while x != 5:\n",
    "    x += 2\n",
    "    print(x)"
   ]
  },
  {
   "cell_type": "markdown",
   "metadata": {
    "slideshow": {
     "slide_type": "subslide"
    }
   },
   "source": [
    "Инструкции `break` и `continue`"
   ]
  },
  {
   "cell_type": "markdown",
   "metadata": {
    "slideshow": {
     "slide_type": "skip"
    }
   },
   "source": [
    "Возможно использование инструкций `break` и `continue` для немедленного выхода из цикла, либо пропуска вложенных операций для каких-нибудь особенных значений.\n",
    "\n",
    "Конкретно в этом примере мы имеем бесконечный цикл, в котором будет накапливаться сумма в переменной $x$. Данный цикл выполнялся бы бесконечно долго, если бы не явное прерывание при $x = 5$."
   ]
  },
  {
   "cell_type": "code",
   "execution_count": 2,
   "metadata": {
    "id": "qMCe1ZTmBwWa",
    "slideshow": {
     "slide_type": "-"
    }
   },
   "outputs": [
    {
     "name": "stdout",
     "output_type": "stream",
     "text": [
      "3\n"
     ]
    }
   ],
   "source": [
    "x = 1\n",
    "while True:\n",
    "    x += 2\n",
    "    if x == 5:\n",
    "        break\n",
    "    print(x)"
   ]
  },
  {
   "cell_type": "markdown",
   "metadata": {
    "slideshow": {
     "slide_type": "skip"
    }
   },
   "source": [
    "В данном примере инструкция `print` внутри цикла никогда не будет напечатана, так как при первой проверке значение $x$ равно $3$ и сработает оператор `continue`, а на следующей проверке произойдет выход из цикла, так как x станет равным пяти."
   ]
  },
  {
   "cell_type": "code",
   "execution_count": 3,
   "metadata": {
    "id": "yVE4bru4BwWa",
    "slideshow": {
     "slide_type": "subslide"
    }
   },
   "outputs": [
    {
     "name": "stdout",
     "output_type": "stream",
     "text": [
      "5\n"
     ]
    }
   ],
   "source": [
    "x = 1\n",
    "while True:\n",
    "    x += 2\n",
    "    if x != 5:\n",
    "        continue\n",
    "    else:\n",
    "        break\n",
    "    print('never get printed')\n",
    "print(x)"
   ]
  },
  {
   "cell_type": "markdown",
   "metadata": {
    "id": "x5Z8uowPBwWa",
    "slideshow": {
     "slide_type": "slide"
    }
   },
   "source": [
    "#### Цикл `for`\n",
    "\n",
    "Перейдем теперь ко второму циклу `for`. Идея цикла заключается в том, чтобы выполнить блок кода для каждого элемента коллекции. Синтаксис данного цикла несколько отличается от цикла `while`. Конструкция цикла начинается с ключевого слова `for`, далее идет переменная цикла `variable` и после ключевого слова `in` - коллекция объектов для обхода `iterable`. Для каждого элемента коллекции `variable` будет выполнен блок кода, выделенный отступом \n",
    "\n",
    "```python \n",
    "for variable in iterable:\n",
    "    <some code here>\n",
    "```\n",
    "\n",
    "<!-- _Примечание:_ Под итерируемым объектом в данном случае понимается коллекция элементов, для которой задан некоторый порядок обхода или, забегая вперед, определены методы `__iter__()` и `__next__()` -->\n",
    "\n",
    "В данном примере переменной цикла является `i`, а коллекцией объектов - список, содержащий четыре элемента."
   ]
  },
  {
   "cell_type": "code",
   "execution_count": 4,
   "metadata": {
    "id": "SOAcH_IXBwWa",
    "slideshow": {
     "slide_type": "fragment"
    }
   },
   "outputs": [
    {
     "name": "stdout",
     "output_type": "stream",
     "text": [
      "0\n",
      "1\n",
      "2\n",
      "3\n"
     ]
    }
   ],
   "source": [
    "for i in [0, 1, 2, 3]:\n",
    "    print(i)"
   ]
  },
  {
   "cell_type": "markdown",
   "metadata": {
    "id": "4h1wnIxbBwWb",
    "slideshow": {
     "slide_type": "skip"
    }
   },
   "source": [
    "Для задания коллекции итерируемых объектов очень часто удобно использовать функцию `range`.\n",
    "Функция `range` генерирует последовательность чисел от $\\textit{start}$\n",
    "до $\\textit{end}$ (не включая правую границу) с шагом $\\textit{step}$ (по умолчанию $\\textit{step}=1$)\n",
    "\n",
    "Функция `range`\n",
    "```python\n",
    "range(start, end, step) \n",
    "```\n",
    "\n",
    "Простейший случай применения функции `range` - это обход целых чисел от $0$ до заданного значения"
   ]
  },
  {
   "cell_type": "code",
   "execution_count": 5,
   "metadata": {
    "id": "tNHNlT9ABwWb",
    "slideshow": {
     "slide_type": "-"
    }
   },
   "outputs": [
    {
     "name": "stdout",
     "output_type": "stream",
     "text": [
      "0\n",
      "1\n",
      "2\n",
      "3\n"
     ]
    }
   ],
   "source": [
    "for i in range(0, 4, 1):\n",
    "    print(i)"
   ]
  },
  {
   "cell_type": "code",
   "execution_count": 6,
   "metadata": {
    "id": "tNHNlT9ABwWb",
    "slideshow": {
     "slide_type": "fragment"
    }
   },
   "outputs": [
    {
     "name": "stdout",
     "output_type": "stream",
     "text": [
      "0\n",
      "1\n",
      "2\n",
      "3\n"
     ]
    }
   ],
   "source": [
    "for i in range(4):\n",
    "    print(i)"
   ]
  },
  {
   "cell_type": "markdown",
   "metadata": {
    "slideshow": {
     "slide_type": "skip"
    }
   },
   "source": [
    "Несколько более сложный пример. Здесь обход совершается от $2$ до $5$ с шагом $2$."
   ]
  },
  {
   "cell_type": "code",
   "execution_count": 7,
   "metadata": {
    "id": "3GUzKo-oBwWb",
    "slideshow": {
     "slide_type": "fragment"
    }
   },
   "outputs": [
    {
     "name": "stdout",
     "output_type": "stream",
     "text": [
      "2\n",
      "4\n"
     ]
    }
   ],
   "source": [
    "for i in range(2, 5, 2):\n",
    "    print(i)"
   ]
  },
  {
   "cell_type": "markdown",
   "metadata": {
    "slideshow": {
     "slide_type": "subslide"
    }
   },
   "source": [
    "Цикл `for` может идти по любому итерируемому объекту\n",
    "\n",
    "_Примечание:_ Под итерируемым объектом в данном случае понимается коллекция элементов, для которой задан некоторый порядок обхода или, забегая вперед, определены методы `__iter__()` и `__next__()`"
   ]
  },
  {
   "cell_type": "code",
   "execution_count": 8,
   "metadata": {
    "id": "LJmvwzaZBwWb",
    "slideshow": {
     "slide_type": "fragment"
    }
   },
   "outputs": [
    {
     "name": "stdout",
     "output_type": "stream",
     "text": [
      "s\n",
      "t\n",
      "r\n",
      "o\n",
      "k\n",
      "a\n"
     ]
    }
   ],
   "source": [
    "for i in 'stroka':\n",
    "    print(i)"
   ]
  },
  {
   "cell_type": "code",
   "execution_count": 9,
   "metadata": {
    "id": "juRj9ehnBwWc",
    "slideshow": {
     "slide_type": "fragment"
    }
   },
   "outputs": [
    {
     "name": "stdout",
     "output_type": "stream",
     "text": [
      "stroka\n",
      "1000\n"
     ]
    }
   ],
   "source": [
    "for i in ['stroka', 1000]:\n",
    "    print(i)"
   ]
  },
  {
   "cell_type": "code",
   "execution_count": 10,
   "metadata": {
    "slideshow": {
     "slide_type": "fragment"
    }
   },
   "outputs": [
    {
     "name": "stdout",
     "output_type": "stream",
     "text": [
      "some\n",
      "random\n",
      "dict\n"
     ]
    }
   ],
   "source": [
    "d = {'some': 'af', 'random': 12, 'dict': []}\n",
    "for key in d:\n",
    "    print(key)"
   ]
  },
  {
   "cell_type": "markdown",
   "metadata": {
    "slideshow": {
     "slide_type": "slide"
    }
   },
   "source": [
    "### Генераторы списков\n",
    "\n",
    "Ранее мы показали две инструкции циклов в Python: `while` и `for`. В целом, этих инструкций достаточно для решения многих задач. Однако переборы последовательностей в программировании возникают настолько часто, что были введены дополнительные инструменты, делающие эту операцию более простой и эффективной.\n",
    "\n",
    "Давайте сразу посмотрим на примере. Будем добавлять к каждому элементу списка `L` число 10 и измерим время, которое для этого потребуется. \n",
    "Для измерения времени используем функцию `%%timeit`, которая относится к так называемым [build-in magic commands](https://ipython.readthedocs.io/en/stable/interactive/magics.html) доступные в jupyter notebook.  В данном случае ключ `-n` означает, что функция `%%timeit` будет запущена 100000 раз, после чего выдаст результат, усредненный по всем этим запускам."
   ]
  },
  {
   "cell_type": "code",
   "execution_count": 11,
   "metadata": {
    "slideshow": {
     "slide_type": "fragment"
    }
   },
   "outputs": [
    {
     "name": "stdout",
     "output_type": "stream",
     "text": [
      "955 ns ± 340 ns per loop (mean ± std. dev. of 7 runs, 100,000 loops each)\n"
     ]
    }
   ],
   "source": [
    "%%timeit -n 100000\n",
    "L = [1, 2, 3, 4, 5]\n",
    "for i in range(len(L)):\n",
    "    L[i] += 10"
   ]
  },
  {
   "cell_type": "markdown",
   "metadata": {
    "slideshow": {
     "slide_type": "skip"
    }
   },
   "source": [
    "Теперь с сделаем то же самое, но с использованием генератора списков"
   ]
  },
  {
   "cell_type": "code",
   "execution_count": 12,
   "metadata": {
    "slideshow": {
     "slide_type": "fragment"
    }
   },
   "outputs": [
    {
     "name": "stdout",
     "output_type": "stream",
     "text": [
      "636 ns ± 278 ns per loop (mean ± std. dev. of 7 runs, 100,000 loops each)\n"
     ]
    }
   ],
   "source": [
    "%%timeit -n 100000\n",
    "L = [1, 2, 3, 4, 5]\n",
    "L = [x + 10 for x in L]"
   ]
  },
  {
   "cell_type": "markdown",
   "metadata": {
    "slideshow": {
     "slide_type": "skip"
    }
   },
   "source": [
    "В нашем примере второй подход дает выигрыш в скорости $\\approx$ 1.5 раза. Помимо выигрыша в скорости генераторы списка также немного сокращают размер кода"
   ]
  },
  {
   "cell_type": "markdown",
   "metadata": {
    "slideshow": {
     "slide_type": "subslide"
    }
   },
   "source": [
    "#### Синтаксис генераторов списков \n",
    "\n",
    "Общий вид генераторов списков выглядит следующим образом. На первом месте в квадратных скобках записывается блок кода, который выполняется для каждого элемента цикла и уже затем записывается сама конструкция цикла.\n",
    "\n",
    "```python\n",
    "    [<some code> for <varible> in <iterable>]\n",
    "```\n",
    "\n",
    "<!-- В действительности генераторы списков могут иметь гораздо более сложную структуру. В частности, можно дополнять генератор операторами `if` или же писать вложенные циклы. -->\n",
    "\n",
    "Например, здесь будет создан список из десяти элементов"
   ]
  },
  {
   "cell_type": "code",
   "execution_count": 13,
   "metadata": {
    "slideshow": {
     "slide_type": "fragment"
    }
   },
   "outputs": [
    {
     "data": {
      "text/plain": [
       "[0, 1, 2, 3, 4, 5, 6, 7, 8, 9]"
      ]
     },
     "execution_count": 13,
     "metadata": {},
     "output_type": "execute_result"
    }
   ],
   "source": [
    "[i for i in range(10)]"
   ]
  },
  {
   "cell_type": "markdown",
   "metadata": {
    "slideshow": {
     "slide_type": "skip"
    }
   },
   "source": [
    "В генераторы списков можно включать условные выражения"
   ]
  },
  {
   "cell_type": "code",
   "execution_count": 14,
   "metadata": {
    "slideshow": {
     "slide_type": "fragment"
    }
   },
   "outputs": [
    {
     "data": {
      "text/plain": [
       "[0, 2, 4, 6, 8]"
      ]
     },
     "execution_count": 14,
     "metadata": {},
     "output_type": "execute_result"
    }
   ],
   "source": [
    "[i for i in range(10) if i % 2 == 0]"
   ]
  },
  {
   "cell_type": "markdown",
   "metadata": {
    "slideshow": {
     "slide_type": "skip"
    }
   },
   "source": [
    "При использовании полной конструкции условного оператора ее следует писать перед инструкцией `for`"
   ]
  },
  {
   "cell_type": "code",
   "execution_count": 15,
   "metadata": {
    "slideshow": {
     "slide_type": "fragment"
    }
   },
   "outputs": [
    {
     "data": {
      "text/plain": [
       "[0, -1, 2, -1, 4, -1, 6, -1, 8, -1]"
      ]
     },
     "execution_count": 15,
     "metadata": {},
     "output_type": "execute_result"
    }
   ],
   "source": [
    "[i if i % 2 == 0 else -1 for i in range(10)]"
   ]
  }
 ],
 "metadata": {
  "celltoolbar": "Слайд-шоу",
  "colab": {
   "name": "Introduction.ipynb",
   "provenance": []
  },
  "kernelspec": {
   "display_name": "Python 3 (ipykernel)",
   "language": "python",
   "name": "python3"
  },
  "language_info": {
   "codemirror_mode": {
    "name": "ipython",
    "version": 3
   },
   "file_extension": ".py",
   "mimetype": "text/x-python",
   "name": "python",
   "nbconvert_exporter": "python",
   "pygments_lexer": "ipython3",
   "version": "3.9.12"
  }
 },
 "nbformat": 4,
 "nbformat_minor": 1
}
