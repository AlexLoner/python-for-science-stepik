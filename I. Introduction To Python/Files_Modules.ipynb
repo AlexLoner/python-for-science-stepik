{
 "cells": [
  {
   "cell_type": "markdown",
   "metadata": {
    "slideshow": {
     "slide_type": "slide"
    }
   },
   "source": [
    "## Модули\n",
    "\n",
    "Зачастую при разработке какого-нибудь проекта написанный программный код разрастается, и работать с ним становится некомфортно (даже после разбиения его на отдельные функции или другие структуры). В таком случае полезно разделять программный код на отдельные логические части и \"прятать\" их в модули. Например, если программа использует большое число различных функций, удобно все эти функции поместить в один модуль и подгрузить его.\n",
    "\n",
    "Любой файл с текстом на языке Python и расширением `.py`может быть использован в качестве модуля. Например, `fft.py`."
   ]
  },
  {
   "cell_type": "markdown",
   "metadata": {
    "slideshow": {
     "slide_type": "slide"
    }
   },
   "source": [
    "Рассмотрим в качестве примера модули в папке *modules_examples*. \n",
    "\n",
    "Загрузить файл с этим кодом в качестве модуля можно с помощью инструкции \n",
    "\n",
    "`import modules_examples.test_module1`\n",
    "\n",
    "Файл `test_module1.py`\n",
    "\n",
    "```python\n",
    "\n",
    "# test_module1\n",
    "print(f\"Hello, i'm module\")\n",
    "\n",
    "var1 = 1000\n",
    "\n",
    "def some_cool_function():\n",
    "    print('I do nothing')\n",
    "    \n",
    "def func(a: str, b: str):\n",
    "    return f\"{a.capitalize()} {b.upper()}\"\n",
    "```"
   ]
  },
  {
   "cell_type": "code",
   "execution_count": 1,
   "metadata": {
    "id": "PDtvHfr7BwWm",
    "slideshow": {
     "slide_type": "fragment"
    }
   },
   "outputs": [
    {
     "name": "stdout",
     "output_type": "stream",
     "text": [
      "Hello, i'm module modules_examples.test_module1\n"
     ]
    }
   ],
   "source": [
    "import modules_examples.test_module1 as tm1"
   ]
  },
  {
   "cell_type": "markdown",
   "metadata": {
    "id": "yllJ6L5OBwWm",
    "slideshow": {
     "slide_type": "skip"
    }
   },
   "source": [
    "Команда `import` выполняет все инструкции в загруженном файле, поэтому появляется вывод функции `print`. Инструкция `import` может появляться в любом месте программы, однако программный код любого модуля загружается и выполняется только один раз, независимо от количества инструкций `import`, загружающих его. Все последующие инструкции `import` будут просто связывать имя модуля с объектом модуля, созданным первой встретившейся инструкцией `import`."
   ]
  },
  {
   "cell_type": "code",
   "execution_count": 2,
   "metadata": {
    "id": "vTMfHk61BwWm",
    "slideshow": {
     "slide_type": "fragment"
    }
   },
   "outputs": [],
   "source": [
    "import modules_examples.test_module1 as tm1"
   ]
  },
  {
   "cell_type": "markdown",
   "metadata": {
    "slideshow": {
     "slide_type": "skip"
    }
   },
   "source": [
    "В одной из первых тем курса мы говорили, что посмотреть доступные методы некоторого объекта можно с помощью функций `help` и `dir`. Давайте воспользуемся функцией `help` и посмотрим информацию об импортируемом модуле"
   ]
  },
  {
   "cell_type": "code",
   "execution_count": 3,
   "metadata": {
    "slideshow": {
     "slide_type": "subslide"
    }
   },
   "outputs": [
    {
     "name": "stdout",
     "output_type": "stream",
     "text": [
      "Help on module modules_examples.test_module1 in modules_examples:\n",
      "\n",
      "NAME\n",
      "    modules_examples.test_module1\n",
      "\n",
      "FUNCTIONS\n",
      "    func(a: str, b: str)\n",
      "    \n",
      "    some_cool_function()\n",
      "\n",
      "DATA\n",
      "    var1 = 1000\n",
      "\n",
      "FILE\n",
      "    c:\\users\\alexloner\\documents\\working_directory\\python_for_science\\1_introduction_to_python\\modules_examples\\test_module1.py\n",
      "\n",
      "\n"
     ]
    }
   ],
   "source": [
    "help(tm1)"
   ]
  },
  {
   "cell_type": "markdown",
   "metadata": {
    "slideshow": {
     "slide_type": "skip"
    }
   },
   "source": [
    "Мы видим основную информацию о модуле: его название, список достпуных методов, также имеется целочисленная переменная `var1` и полный путь до модуля. Соответственно, после импорта нам доступны все методы и переменные в модуле"
   ]
  },
  {
   "cell_type": "code",
   "execution_count": 4,
   "metadata": {
    "id": "yWhfk932BwWn",
    "slideshow": {
     "slide_type": "fragment"
    }
   },
   "outputs": [
    {
     "data": {
      "text/plain": [
       "1000"
      ]
     },
     "execution_count": 4,
     "metadata": {},
     "output_type": "execute_result"
    }
   ],
   "source": [
    "tm1.var1"
   ]
  },
  {
   "cell_type": "code",
   "execution_count": 5,
   "metadata": {
    "id": "Lx6Ywb8HBwWn",
    "slideshow": {
     "slide_type": "-"
    }
   },
   "outputs": [
    {
     "name": "stdout",
     "output_type": "stream",
     "text": [
      "I do nothing\n"
     ]
    }
   ],
   "source": [
    "tm1.some_cool_function()"
   ]
  },
  {
   "cell_type": "code",
   "execution_count": 6,
   "metadata": {
    "id": "-9vhTyXUBwWn",
    "scrolled": true,
    "slideshow": {
     "slide_type": "-"
    }
   },
   "outputs": [
    {
     "data": {
      "text/plain": [
       "'Type SOMETHING'"
      ]
     },
     "execution_count": 6,
     "metadata": {},
     "output_type": "execute_result"
    }
   ],
   "source": [
    "tm1.func('type', 'something')"
   ]
  },
  {
   "cell_type": "markdown",
   "metadata": {
    "id": "y1GSfeG7BwWn",
    "slideshow": {
     "slide_type": "subslide"
    }
   },
   "source": [
    "#### Импортирование отдельных имен из модулей\n",
    "Иногда из всего модуля нам необходимо всего несколько функций и нам не хочется импортировать его целиком. Тогда можно воспользоваться инструкцией `from <module> import <function1>, <function2>`."
   ]
  },
  {
   "cell_type": "markdown",
   "metadata": {
    "slideshow": {
     "slide_type": "subslide"
    }
   },
   "source": [
    "Файл `test_module2.py`\n",
    "```python \n",
    "#test_module2\n",
    "\n",
    "def some_cool_function():\n",
    "    print('I do nothing')\n",
    "\n",
    "def func(a: str, b: str):\n",
    "    return f\"{a.capitalize()} {b.upper()}\"\n",
    "\n",
    "def prod(a=1, *args):\n",
    "    for i in args:\n",
    "        a *= i\n",
    "    return a\n",
    "```"
   ]
  },
  {
   "cell_type": "code",
   "execution_count": 7,
   "metadata": {
    "id": "StmqUdNgBwWo",
    "slideshow": {
     "slide_type": "fragment"
    }
   },
   "outputs": [],
   "source": [
    "from modules_examples.test_module2 import prod"
   ]
  },
  {
   "cell_type": "code",
   "execution_count": 8,
   "metadata": {
    "id": "alezq7RfBwWo",
    "slideshow": {
     "slide_type": "-"
    }
   },
   "outputs": [
    {
     "data": {
      "text/plain": [
       "24"
      ]
     },
     "execution_count": 8,
     "metadata": {},
     "output_type": "execute_result"
    }
   ],
   "source": [
    "prod(2, 3, 4)"
   ]
  },
  {
   "cell_type": "markdown",
   "metadata": {
    "id": "neZXW1djBwWo",
    "slideshow": {
     "slide_type": "subslide"
    }
   },
   "source": [
    "Для того чтобы подгрузить все функции в модуле через инструкцию `from` можно воспользоваться выражением \n",
    "\n",
    "```python \n",
    "from module import *\n",
    "```"
   ]
  },
  {
   "cell_type": "code",
   "execution_count": 9,
   "metadata": {
    "id": "StmqUdNgBwWo",
    "slideshow": {
     "slide_type": "fragment"
    }
   },
   "outputs": [],
   "source": [
    "from modules_examples.test_module2 import *"
   ]
  },
  {
   "cell_type": "code",
   "execution_count": 10,
   "metadata": {},
   "outputs": [
    {
     "data": {
      "text/plain": [
       "'Abra CODABRA'"
      ]
     },
     "execution_count": 10,
     "metadata": {},
     "output_type": "execute_result"
    }
   ],
   "source": [
    "func('abra', 'codabra')"
   ]
  },
  {
   "cell_type": "markdown",
   "metadata": {
    "id": "neZXW1djBwWo",
    "slideshow": {
     "slide_type": "skip"
    }
   },
   "source": [
    "Такая запись избавит вас от необходимости писать название модуля перед нужной функцией. Однако делать так не рекомендуется, так как при таком вызове в наше пространство имен выгружаются все имена функций, переменных из модуля, и в таком случае при совпадении имен старое значение будет перезаписано. "
   ]
  },
  {
   "cell_type": "markdown",
   "metadata": {
    "id": "neZXW1djBwWo",
    "slideshow": {
     "slide_type": "fragment"
    }
   },
   "source": [
    "Например, пусть у нас есть переменная  `sign`, а в модуле `test_module3.py` содержится функция с таким же именем."
   ]
  },
  {
   "cell_type": "code",
   "execution_count": 11,
   "metadata": {
    "id": "92S4ObqEBwWo",
    "slideshow": {
     "slide_type": "-"
    }
   },
   "outputs": [],
   "source": [
    "sign = \"+\""
   ]
  },
  {
   "cell_type": "markdown",
   "metadata": {},
   "source": [
    "Файл `test_module3.py`\n",
    "```python \n",
    "#test_module3\n",
    "\n",
    "def sign(a, b):\n",
    "    return 1 if a > b else 0\n",
    "```"
   ]
  },
  {
   "cell_type": "markdown",
   "metadata": {
    "slideshow": {
     "slide_type": "skip"
    }
   },
   "source": [
    "Если теперь из модуля `test_module3.py` подгрузить все функции, то переменная `sign` перезапишется и станет функцией."
   ]
  },
  {
   "cell_type": "code",
   "execution_count": 12,
   "metadata": {
    "id": "YsXL8pi8BwWp",
    "slideshow": {
     "slide_type": "-"
    }
   },
   "outputs": [],
   "source": [
    "from modules_examples.test_module3 import *"
   ]
  },
  {
   "cell_type": "code",
   "execution_count": 13,
   "metadata": {
    "id": "eOEumNLeBwWp",
    "slideshow": {
     "slide_type": "fragment"
    }
   },
   "outputs": [
    {
     "data": {
      "text/plain": [
       "<function modules_examples.test_module3.sign(a, b)>"
      ]
     },
     "execution_count": 13,
     "metadata": {},
     "output_type": "execute_result"
    }
   ],
   "source": [
    "sign"
   ]
  },
  {
   "cell_type": "markdown",
   "metadata": {
    "id": "DvuAX3EJBwWp",
    "slideshow": {
     "slide_type": "skip"
    }
   },
   "source": [
    "Теперь это функция"
   ]
  },
  {
   "cell_type": "markdown",
   "metadata": {
    "slideshow": {
     "slide_type": "slide"
    }
   },
   "source": [
    "## Работа с файлами\n",
    "\n",
    "Чтобы открыть файл, нужно воспользоваться встроенной функцией `open(<путь до файла>, <режим работы с файлом (mode)>)`\n",
    "\n",
    "| mode | Описание |\n",
    "| --- | --- |\n",
    "|`'r'` | чтение (read-only, это значение выставлено по умолчанию)|\n",
    "|`'x'`| создает файл для записи; если файл уже существует, то выдаст ошибку|\n",
    "|`'w'`| создает файл для записи; если файл уже существует, данные будут перезаписаны|\n",
    "|`'a'`| открывает файл для дозаписи в конец файла; если требуемого файла нет, то сначала создаст его|\n",
    "\n",
    "* Добавление символа `b` в строку режима означает работу с двоичными данными\n",
    "* Добавление символа `+` означает, что файл открывается и для чтения, и для записи"
   ]
  },
  {
   "cell_type": "markdown",
   "metadata": {
    "id": "I1nKtl8TBwWq",
    "slideshow": {
     "slide_type": "skip"
    }
   },
   "source": [
    "Рассмотрим пример работы с файлом.\n",
    "Создадим для записи файл `first_file.txt` в директории `./files/` и запишем в него две строки, после чего закроем файл."
   ]
  },
  {
   "cell_type": "code",
   "execution_count": 14,
   "metadata": {
    "id": "DaEt84rTBwWq",
    "slideshow": {
     "slide_type": "subslide"
    }
   },
   "outputs": [],
   "source": [
    "f = open('files/first_file.txt', 'w')  \n",
    "f.write('hello text file\\n')\n",
    "f.write('nice to meet you\\n')\n",
    "f.close()  "
   ]
  },
  {
   "cell_type": "markdown",
   "metadata": {
    "id": "tOpzvUznBwWq",
    "slideshow": {
     "slide_type": "skip"
    }
   },
   "source": [
    "Попробуем считать данные из нашего файла с помощью функции `readline`, считывающей одну строку из файла при каждом обращении. "
   ]
  },
  {
   "cell_type": "code",
   "execution_count": 15,
   "metadata": {
    "id": "ovbPztn0BwWq",
    "slideshow": {
     "slide_type": "fragment"
    }
   },
   "outputs": [],
   "source": [
    "f = open('files/first_file.txt')\n",
    "line1 = f.readline()\n",
    "line2 = f.readline() \n",
    "f.close()"
   ]
  },
  {
   "cell_type": "code",
   "execution_count": 16,
   "metadata": {
    "id": "JSAVePe9BwWr",
    "slideshow": {
     "slide_type": "-"
    }
   },
   "outputs": [
    {
     "data": {
      "text/plain": [
       "('hello text file\\n', 'nice to meet you\\n')"
      ]
     },
     "execution_count": 16,
     "metadata": {},
     "output_type": "execute_result"
    }
   ],
   "source": [
    "line1, line2"
   ]
  },
  {
   "cell_type": "markdown",
   "metadata": {
    "id": "_Wn68dduBwWr",
    "slideshow": {
     "slide_type": "skip"
    }
   },
   "source": [
    "Строк в файле обычно бывает много, поэтому обернем считывание из файла в цикл"
   ]
  },
  {
   "cell_type": "code",
   "execution_count": 17,
   "metadata": {
    "id": "jiP44fLKBwWr",
    "slideshow": {
     "slide_type": "subslide"
    }
   },
   "outputs": [],
   "source": [
    "f = open('files/first_file.txt')\n",
    "lines = []  # массив для хранения строк\n",
    "while True:\n",
    "    line = f.readline()\n",
    "    if line == '':  # проверяем, есть ли еще строки в файле\n",
    "        break\n",
    "    lines.append(line)\n",
    "f.close()"
   ]
  },
  {
   "cell_type": "code",
   "execution_count": 18,
   "metadata": {
    "id": "uT2tJGYXBwWr",
    "slideshow": {
     "slide_type": "-"
    }
   },
   "outputs": [
    {
     "data": {
      "text/plain": [
       "['hello text file\\n', 'nice to meet you\\n']"
      ]
     },
     "execution_count": 18,
     "metadata": {},
     "output_type": "execute_result"
    }
   ],
   "source": [
    "lines"
   ]
  },
  {
   "cell_type": "markdown",
   "metadata": {
    "id": "GQwr_JrsBwWs",
    "slideshow": {
     "slide_type": "skip"
    }
   },
   "source": [
    "Закрывать за собой файлы - это пример хорошего тона в программировании, однако в Python это действие не является обязательным. Дело в автоматическом сборщике мусора, который закроет файл после окончания выполнения программы.\n",
    "\n",
    "Помимо этого существует альтернитивный вариант автоматического закрытия файла - использование так называемого *контекстного менеджера*:"
   ]
  },
  {
   "cell_type": "code",
   "execution_count": 19,
   "metadata": {
    "id": "7IPH48_rBwWs",
    "slideshow": {
     "slide_type": "subslide"
    }
   },
   "outputs": [
    {
     "name": "stdout",
     "output_type": "stream",
     "text": [
      "['hello text file\\n', 'nice to meet you\\n']\n"
     ]
    }
   ],
   "source": [
    "lines = []\n",
    "with open('files/first_file.txt') as f:\n",
    "    while True:\n",
    "        line = f.readline()\n",
    "        if line == '':  \n",
    "            break\n",
    "        lines.append(line)\n",
    "print(lines)"
   ]
  },
  {
   "cell_type": "markdown",
   "metadata": {
    "slideshow": {
     "slide_type": "skip"
    }
   },
   "source": [
    "Открытие файла при помощи конструкции `with` ... `as` позволяет автоматически закрыть файл после выполнения блока внутри конструкции. Убедимся, что файл закрыт:"
   ]
  },
  {
   "cell_type": "code",
   "execution_count": 20,
   "metadata": {
    "id": "ajPqXUE4BwWt",
    "slideshow": {
     "slide_type": "-"
    }
   },
   "outputs": [
    {
     "ename": "ValueError",
     "evalue": "I/O operation on closed file.",
     "output_type": "error",
     "traceback": [
      "\u001b[1;31m---------------------------------------------------------------------------\u001b[0m",
      "\u001b[1;31mValueError\u001b[0m                                Traceback (most recent call last)",
      "Input \u001b[1;32mIn [20]\u001b[0m, in \u001b[0;36m<cell line: 1>\u001b[1;34m()\u001b[0m\n\u001b[1;32m----> 1\u001b[0m \u001b[43mf\u001b[49m\u001b[38;5;241;43m.\u001b[39;49m\u001b[43mwrite\u001b[49m\u001b[43m(\u001b[49m\u001b[38;5;124;43m'\u001b[39;49m\u001b[38;5;124;43mdf\u001b[39;49m\u001b[38;5;124;43m'\u001b[39;49m\u001b[43m)\u001b[49m\n",
      "\u001b[1;31mValueError\u001b[0m: I/O operation on closed file."
     ]
    }
   ],
   "source": [
    "f.write('df')"
   ]
  },
  {
   "cell_type": "markdown",
   "metadata": {
    "id": "hoIldNZgBwWt",
    "slideshow": {
     "slide_type": "skip"
    }
   },
   "source": [
    "Есть возможность прочитать файл целиком за один раз. Инструкция `file.read()` вернет строку со всем содержимым файла. Однако делать так стоит лишь когда вы уверены, что размер файла не превышает размера оперативной памяти, оставшейся в распоряжении компьютера."
   ]
  },
  {
   "cell_type": "code",
   "execution_count": 21,
   "metadata": {
    "id": "JLdVY-B7BwWt",
    "slideshow": {
     "slide_type": "subslide"
    }
   },
   "outputs": [],
   "source": [
    "with open('files/first_file.txt') as f:\n",
    "    whole_file = f.read()        "
   ]
  },
  {
   "cell_type": "code",
   "execution_count": 22,
   "metadata": {
    "id": "vVAZF9g-BwWt",
    "slideshow": {
     "slide_type": "-"
    }
   },
   "outputs": [
    {
     "data": {
      "text/plain": [
       "'hello text file\\nnice to meet you\\n'"
      ]
     },
     "execution_count": 22,
     "metadata": {},
     "output_type": "execute_result"
    }
   ],
   "source": [
    "whole_file"
   ]
  },
  {
   "cell_type": "markdown",
   "metadata": {
    "id": "HERZI4IlBwWu",
    "slideshow": {
     "slide_type": "fragment"
    }
   },
   "source": [
    "посмотреть о всех возможных методах для файлов можно посмотреть [тут](https://docs.python.org/2.4/lib/bltin-file-objects.html)"
   ]
  }
 ],
 "metadata": {
  "celltoolbar": "Слайд-шоу",
  "colab": {
   "name": "Introduction.ipynb",
   "provenance": []
  },
  "kernelspec": {
   "display_name": "Python 3 (ipykernel)",
   "language": "python",
   "name": "python3"
  },
  "language_info": {
   "codemirror_mode": {
    "name": "ipython",
    "version": 3
   },
   "file_extension": ".py",
   "mimetype": "text/x-python",
   "name": "python",
   "nbconvert_exporter": "python",
   "pygments_lexer": "ipython3",
   "version": "3.9.12"
  }
 },
 "nbformat": 4,
 "nbformat_minor": 1
}
