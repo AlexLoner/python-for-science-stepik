{
 "cells": [
  {
   "cell_type": "markdown",
   "metadata": {
    "slideshow": {
     "slide_type": "slide"
    }
   },
   "source": [
    "# Numpy\n",
    "\n",
    "[NumPy](https://numpy.org/doc/stable/user/whatisnumpy.html) (__Numerical Python__) - фундаметальная библиотека для научных вычислений в Python. Главными особенностями являются: доступность (open source) и скорость вычислений."
   ]
  },
  {
   "cell_type": "code",
   "execution_count": 1,
   "metadata": {
    "slideshow": {
     "slide_type": "fragment"
    }
   },
   "outputs": [],
   "source": [
    "import numpy as np"
   ]
  },
  {
   "cell_type": "markdown",
   "metadata": {
    "id": "4rWyQ6ccHCmb",
    "slideshow": {
     "slide_type": "subslide"
    }
   },
   "source": [
    "### Объявление массива\n",
    "\n",
    "#### Одномерный массив "
   ]
  },
  {
   "cell_type": "code",
   "execution_count": 2,
   "metadata": {
    "id": "FKkkKWiKBfCY",
    "slideshow": {
     "slide_type": "fragment"
    }
   },
   "outputs": [],
   "source": [
    "ar = np.array([0, 4, 1.1, -12])"
   ]
  },
  {
   "cell_type": "markdown",
   "metadata": {
    "id": "1zMZUCBdF0M0",
    "slideshow": {
     "slide_type": "fragment"
    }
   },
   "source": [
    "Узнать размер массива можно используя метод `shape`. Еще существует метод `size`, который возвращает число элементов массива"
   ]
  },
  {
   "cell_type": "code",
   "execution_count": 3,
   "metadata": {
    "colab": {
     "base_uri": "https://localhost:8080/"
    },
    "executionInfo": {
     "elapsed": 12,
     "status": "ok",
     "timestamp": 1632729922235,
     "user": {
      "displayName": "Александр Лукьянов",
      "photoUrl": "https://lh3.googleusercontent.com/a/default-user=s64",
      "userId": "09720227785185197701"
     },
     "user_tz": -180
    },
    "id": "LlUWU3YfF0M0",
    "outputId": "3ed7489b-81f9-4ea6-914a-9fe2a158eb84",
    "slideshow": {
     "slide_type": "fragment"
    }
   },
   "outputs": [
    {
     "data": {
      "text/plain": [
       "(4,)"
      ]
     },
     "execution_count": 3,
     "metadata": {},
     "output_type": "execute_result"
    }
   ],
   "source": [
    "ar.shape"
   ]
  },
  {
   "cell_type": "code",
   "execution_count": 4,
   "metadata": {
    "colab": {
     "base_uri": "https://localhost:8080/"
    },
    "executionInfo": {
     "elapsed": 589,
     "status": "ok",
     "timestamp": 1632729922817,
     "user": {
      "displayName": "Александр Лукьянов",
      "photoUrl": "https://lh3.googleusercontent.com/a/default-user=s64",
      "userId": "09720227785185197701"
     },
     "user_tz": -180
    },
    "id": "YgVDNEd-F0M0",
    "outputId": "2ad210d7-5007-43c2-e581-e185d863164e",
    "slideshow": {
     "slide_type": "fragment"
    }
   },
   "outputs": [
    {
     "data": {
      "text/plain": [
       "4"
      ]
     },
     "execution_count": 4,
     "metadata": {},
     "output_type": "execute_result"
    }
   ],
   "source": [
    "ar.size"
   ]
  },
  {
   "cell_type": "markdown",
   "metadata": {
    "id": "bQyu6ngKIEHL",
    "slideshow": {
     "slide_type": "subslide"
    }
   },
   "source": [
    "#### Двумерный массив"
   ]
  },
  {
   "cell_type": "code",
   "execution_count": 5,
   "metadata": {
    "id": "-9q-z_aQHQ4d",
    "slideshow": {
     "slide_type": "fragment"
    }
   },
   "outputs": [],
   "source": [
    "ar_2d = np.array([[1, 2], \n",
    "                  [3, 4]])"
   ]
  },
  {
   "cell_type": "code",
   "execution_count": 6,
   "metadata": {
    "colab": {
     "base_uri": "https://localhost:8080/"
    },
    "executionInfo": {
     "elapsed": 15,
     "status": "ok",
     "timestamp": 1632729924322,
     "user": {
      "displayName": "Александр Лукьянов",
      "photoUrl": "https://lh3.googleusercontent.com/a/default-user=s64",
      "userId": "09720227785185197701"
     },
     "user_tz": -180
    },
    "id": "T_n_mgX1HYa4",
    "outputId": "20a22b5e-3b63-4bc7-d0e0-7ca021f4dc93",
    "slideshow": {
     "slide_type": "fragment"
    }
   },
   "outputs": [
    {
     "data": {
      "text/plain": [
       "(2, 2)"
      ]
     },
     "execution_count": 6,
     "metadata": {},
     "output_type": "execute_result"
    }
   ],
   "source": [
    "ar_2d.shape"
   ]
  },
  {
   "cell_type": "code",
   "execution_count": 7,
   "metadata": {
    "colab": {
     "base_uri": "https://localhost:8080/"
    },
    "executionInfo": {
     "elapsed": 7,
     "status": "ok",
     "timestamp": 1632729924322,
     "user": {
      "displayName": "Александр Лукьянов",
      "photoUrl": "https://lh3.googleusercontent.com/a/default-user=s64",
      "userId": "09720227785185197701"
     },
     "user_tz": -180
    },
    "id": "2X_kikHKF0M2",
    "outputId": "2426aaf3-ad05-41b0-a28e-5ceca5791ba1",
    "slideshow": {
     "slide_type": "fragment"
    }
   },
   "outputs": [
    {
     "data": {
      "text/plain": [
       "4"
      ]
     },
     "execution_count": 7,
     "metadata": {},
     "output_type": "execute_result"
    }
   ],
   "source": [
    "ar_2d.size"
   ]
  },
  {
   "cell_type": "markdown",
   "metadata": {
    "id": "6FhVGsp7YdiT",
    "slideshow": {
     "slide_type": "subslide"
    }
   },
   "source": [
    "#### Многомерные массивы\n",
    "\n",
    "\n",
    "Трехмерный массив из нулей"
   ]
  },
  {
   "cell_type": "code",
   "execution_count": 8,
   "metadata": {
    "id": "jtdVd1nxHjjU",
    "slideshow": {
     "slide_type": "fragment"
    }
   },
   "outputs": [],
   "source": [
    "ar_3d = np.zeros((3, 2, 2))"
   ]
  },
  {
   "cell_type": "code",
   "execution_count": 9,
   "metadata": {
    "colab": {
     "base_uri": "https://localhost:8080/"
    },
    "executionInfo": {
     "elapsed": 7,
     "status": "ok",
     "timestamp": 1632729926562,
     "user": {
      "displayName": "Александр Лукьянов",
      "photoUrl": "https://lh3.googleusercontent.com/a/default-user=s64",
      "userId": "09720227785185197701"
     },
     "user_tz": -180
    },
    "id": "rz9oPbNYYorN",
    "outputId": "36d70fd1-08fa-4ffd-a71c-5b2aab58a22c",
    "slideshow": {
     "slide_type": "fragment"
    }
   },
   "outputs": [
    {
     "data": {
      "text/plain": [
       "array([[[0., 0.],\n",
       "        [0., 0.]],\n",
       "\n",
       "       [[0., 0.],\n",
       "        [0., 0.]],\n",
       "\n",
       "       [[0., 0.],\n",
       "        [0., 0.]]])"
      ]
     },
     "execution_count": 9,
     "metadata": {},
     "output_type": "execute_result"
    }
   ],
   "source": [
    "ar_3d"
   ]
  },
  {
   "cell_type": "markdown",
   "metadata": {
    "id": "SgIUuPolZl3R",
    "slideshow": {
     "slide_type": "subslide"
    }
   },
   "source": [
    "Массив из единиц\n"
   ]
  },
  {
   "cell_type": "code",
   "execution_count": 10,
   "metadata": {
    "id": "7ziT8R3AZmmp",
    "slideshow": {
     "slide_type": "fragment"
    }
   },
   "outputs": [],
   "source": [
    "ar_ones = np.ones((5, 5))"
   ]
  },
  {
   "cell_type": "code",
   "execution_count": 11,
   "metadata": {
    "colab": {
     "base_uri": "https://localhost:8080/"
    },
    "executionInfo": {
     "elapsed": 6,
     "status": "ok",
     "timestamp": 1632729928623,
     "user": {
      "displayName": "Александр Лукьянов",
      "photoUrl": "https://lh3.googleusercontent.com/a/default-user=s64",
      "userId": "09720227785185197701"
     },
     "user_tz": -180
    },
    "id": "spK8sNXgZylB",
    "outputId": "72bbe02e-0007-4e0e-b859-7a3ff86ed18b",
    "slideshow": {
     "slide_type": "fragment"
    }
   },
   "outputs": [
    {
     "data": {
      "text/plain": [
       "array([[1., 1., 1., 1., 1.],\n",
       "       [1., 1., 1., 1., 1.],\n",
       "       [1., 1., 1., 1., 1.],\n",
       "       [1., 1., 1., 1., 1.],\n",
       "       [1., 1., 1., 1., 1.]])"
      ]
     },
     "execution_count": 11,
     "metadata": {},
     "output_type": "execute_result"
    }
   ],
   "source": [
    "ar_ones"
   ]
  },
  {
   "cell_type": "markdown",
   "metadata": {
    "id": "hF9GWaPgY3Kx",
    "slideshow": {
     "slide_type": "subslide"
    }
   },
   "source": [
    "Массив из единиц на диагонали"
   ]
  },
  {
   "cell_type": "code",
   "execution_count": 12,
   "metadata": {
    "id": "Ex--cxe6Y3zD",
    "slideshow": {
     "slide_type": "fragment"
    }
   },
   "outputs": [],
   "source": [
    "ar_eye = np.eye(4, 5)"
   ]
  },
  {
   "cell_type": "code",
   "execution_count": 13,
   "metadata": {
    "colab": {
     "base_uri": "https://localhost:8080/"
    },
    "executionInfo": {
     "elapsed": 11,
     "status": "ok",
     "timestamp": 1632729930161,
     "user": {
      "displayName": "Александр Лукьянов",
      "photoUrl": "https://lh3.googleusercontent.com/a/default-user=s64",
      "userId": "09720227785185197701"
     },
     "user_tz": -180
    },
    "id": "kiwoxPmrY4F9",
    "outputId": "61c7a801-b52a-40c5-c46f-7ea8d9369702",
    "slideshow": {
     "slide_type": "fragment"
    }
   },
   "outputs": [
    {
     "data": {
      "text/plain": [
       "array([[1., 0., 0., 0., 0.],\n",
       "       [0., 1., 0., 0., 0.],\n",
       "       [0., 0., 1., 0., 0.],\n",
       "       [0., 0., 0., 1., 0.]])"
      ]
     },
     "execution_count": 13,
     "metadata": {},
     "output_type": "execute_result"
    }
   ],
   "source": [
    "ar_eye"
   ]
  },
  {
   "cell_type": "code",
   "execution_count": 14,
   "metadata": {
    "id": "bFtHKyCkY4S0",
    "slideshow": {
     "slide_type": "fragment"
    }
   },
   "outputs": [],
   "source": [
    "ar_eye_up = np.eye(4, 5, k=1)"
   ]
  },
  {
   "cell_type": "code",
   "execution_count": 15,
   "metadata": {
    "colab": {
     "base_uri": "https://localhost:8080/"
    },
    "executionInfo": {
     "elapsed": 10,
     "status": "ok",
     "timestamp": 1632729931790,
     "user": {
      "displayName": "Александр Лукьянов",
      "photoUrl": "https://lh3.googleusercontent.com/a/default-user=s64",
      "userId": "09720227785185197701"
     },
     "user_tz": -180
    },
    "id": "b60ijHk9Y4jm",
    "outputId": "171f4a7c-7ab5-4ef1-bfee-5a95a64e0a19",
    "slideshow": {
     "slide_type": "fragment"
    }
   },
   "outputs": [
    {
     "data": {
      "text/plain": [
       "array([[0., 1., 0., 0., 0.],\n",
       "       [0., 0., 1., 0., 0.],\n",
       "       [0., 0., 0., 1., 0.],\n",
       "       [0., 0., 0., 0., 1.]])"
      ]
     },
     "execution_count": 15,
     "metadata": {},
     "output_type": "execute_result"
    }
   ],
   "source": [
    "ar_eye_up"
   ]
  },
  {
   "cell_type": "markdown",
   "metadata": {
    "id": "vv_VeIPoGg_u",
    "slideshow": {
     "slide_type": "subslide"
    }
   },
   "source": [
    "Можно задавать массивы различных размерностей из произвольных чисел или из чисел, распределенных по некоторому закону"
   ]
  },
  {
   "cell_type": "code",
   "execution_count": 16,
   "metadata": {
    "id": "64XmDY1cZfEy",
    "slideshow": {
     "slide_type": "fragment"
    }
   },
   "outputs": [
    {
     "data": {
      "text/plain": [
       "array([0.09835919, 0.23429947, 0.04938549, 0.6357343 , 0.088219  ,\n",
       "       0.20570437, 0.61678507, 0.05924878, 0.84904339, 0.84272236])"
      ]
     },
     "execution_count": 16,
     "metadata": {},
     "output_type": "execute_result"
    }
   ],
   "source": [
    "rand_1d = np.random.sample(10)\n",
    "rand_1d"
   ]
  },
  {
   "cell_type": "code",
   "execution_count": 17,
   "metadata": {
    "slideshow": {
     "slide_type": "fragment"
    }
   },
   "outputs": [
    {
     "data": {
      "text/plain": [
       "array([5, 3, 5, 8, 6, 8, 7, 6, 3, 3])"
      ]
     },
     "execution_count": 17,
     "metadata": {},
     "output_type": "execute_result"
    }
   ],
   "source": [
    "rand_int = np.random.randint(low = 1, high = 10, size = 10)\n",
    "rand_int"
   ]
  },
  {
   "cell_type": "markdown",
   "metadata": {
    "id": "zE0agBxIF0NB",
    "slideshow": {
     "slide_type": "slide"
    }
   },
   "source": [
    "### Основные операции с массивами\n",
    "\n",
    "Итак, мы научились создавать массивы произвольных размерностей. Давайте теперь посмотрим, какие операции над ними нам доступны \n",
    "\n",
    "Важным отличием от встроенных в Python списков является то, что для `numpy` все стандартные операции выполняются поэлементно"
   ]
  },
  {
   "cell_type": "code",
   "execution_count": 18,
   "metadata": {
    "colab": {
     "base_uri": "https://localhost:8080/"
    },
    "executionInfo": {
     "elapsed": 12,
     "status": "ok",
     "timestamp": 1632730094879,
     "user": {
      "displayName": "Александр Лукьянов",
      "photoUrl": "https://lh3.googleusercontent.com/a/default-user=s64",
      "userId": "09720227785185197701"
     },
     "user_tz": -180
    },
    "id": "dbZ7pvEHF0NB",
    "outputId": "36bea3b5-c143-4d8d-ea28-33223c291de3",
    "slideshow": {
     "slide_type": "fragment"
    }
   },
   "outputs": [
    {
     "name": "stdout",
     "output_type": "stream",
     "text": [
      "[ 7  9 11 13 15]\n",
      "[-5 -5 -5 -5 -5]\n",
      "[ 6 14 24 36 50]\n",
      "[0.16666667 0.28571429 0.375      0.44444444 0.5       ]\n",
      "[      1     128    6561  262144 9765625]\n",
      "[0 0 0 0 0]\n",
      "[1 2 3 4 5]\n"
     ]
    }
   ],
   "source": [
    "ar1 = np.array([1, 2, 3, 4, 5])\n",
    "ar2 = np.array([6, 7, 8, 9, 10])\n",
    "\n",
    "print(ar1 + ar2)   # Сложение\n",
    "print(ar1 - ar2)   # Вычитание\n",
    "print(ar1 * ar2)   # Умножение\n",
    "print(ar1 / ar2)   # Деление\n",
    "print(ar1 ** ar2)  # Возведение в степень\n",
    "print(ar1 // ar2)  # Целая часть от деления\n",
    "print(ar1 % ar2)   # Остаток от деления"
   ]
  },
  {
   "cell_type": "markdown",
   "metadata": {
    "id": "4xttKGdnF0NC",
    "slideshow": {
     "slide_type": "subslide"
    }
   },
   "source": [
    "Также доступны и операции с числами"
   ]
  },
  {
   "cell_type": "code",
   "execution_count": 19,
   "metadata": {
    "colab": {
     "base_uri": "https://localhost:8080/"
    },
    "executionInfo": {
     "elapsed": 9,
     "status": "ok",
     "timestamp": 1632730096867,
     "user": {
      "displayName": "Александр Лукьянов",
      "photoUrl": "https://lh3.googleusercontent.com/a/default-user=s64",
      "userId": "09720227785185197701"
     },
     "user_tz": -180
    },
    "id": "ZxR63Pj6F0NC",
    "outputId": "1c477c72-7a93-4b87-fc27-d92b314bb5ed",
    "slideshow": {
     "slide_type": "fragment"
    }
   },
   "outputs": [
    {
     "name": "stdout",
     "output_type": "stream",
     "text": [
      "[ 6  7  8  9 10]\n",
      "[-4 -3 -2 -1  0]\n",
      "[ 5 10 15 20 25]\n",
      "[0.2 0.4 0.6 0.8 1. ]\n",
      "[   1   32  243 1024 3125]\n",
      "[0 0 0 0 1]\n",
      "[1 2 3 4 0]\n"
     ]
    }
   ],
   "source": [
    "print(ar1 + 5)\n",
    "print(ar1 - 5)\n",
    "print(ar1 * 5)\n",
    "print(ar1 / 5)\n",
    "print(ar1 ** 5)\n",
    "print(ar1 // 5)  \n",
    "print(ar1 % 5) "
   ]
  },
  {
   "cell_type": "markdown",
   "metadata": {
    "id": "FBd-E6OKF0NC",
    "slideshow": {
     "slide_type": "fragment"
    }
   },
   "source": [
    "Стоит заметить, что массивы `numpy.ndarray` изменяемый тип данных"
   ]
  },
  {
   "cell_type": "code",
   "execution_count": 20,
   "metadata": {
    "colab": {
     "base_uri": "https://localhost:8080/"
    },
    "executionInfo": {
     "elapsed": 11,
     "status": "ok",
     "timestamp": 1632730097344,
     "user": {
      "displayName": "Александр Лукьянов",
      "photoUrl": "https://lh3.googleusercontent.com/a/default-user=s64",
      "userId": "09720227785185197701"
     },
     "user_tz": -180
    },
    "id": "k25GDx0jF0NC",
    "outputId": "8abdc231-4c98-4c26-bbb4-03d45bee51d2",
    "slideshow": {
     "slide_type": "fragment"
    }
   },
   "outputs": [
    {
     "name": "stdout",
     "output_type": "stream",
     "text": [
      "[1 2 3 4 5]\n",
      "[100   2   3   4   5]\n"
     ]
    }
   ],
   "source": [
    "print(ar1)\n",
    "ar1[0] = 100\n",
    "print(ar1)"
   ]
  },
  {
   "cell_type": "markdown",
   "metadata": {
    "id": "s2h2Cy07F0M7",
    "slideshow": {
     "slide_type": "subslide"
    }
   },
   "source": [
    "При необходимости вычленить определенные элементы из массива, отвечающие некоторому условию, можно использовать так называемые \"маски\""
   ]
  },
  {
   "cell_type": "code",
   "execution_count": 21,
   "metadata": {
    "id": "AFN8ljTeF0M7",
    "slideshow": {
     "slide_type": "fragment"
    }
   },
   "outputs": [],
   "source": [
    "ar = np.random.randint(-25, 25, 50)"
   ]
  },
  {
   "cell_type": "code",
   "execution_count": 22,
   "metadata": {
    "colab": {
     "base_uri": "https://localhost:8080/"
    },
    "executionInfo": {
     "elapsed": 695,
     "status": "ok",
     "timestamp": 1632729950436,
     "user": {
      "displayName": "Александр Лукьянов",
      "photoUrl": "https://lh3.googleusercontent.com/a/default-user=s64",
      "userId": "09720227785185197701"
     },
     "user_tz": -180
    },
    "id": "DRykj4nbF0M7",
    "outputId": "08a48e90-a4be-4c6e-b32b-f1f4d173754b",
    "slideshow": {
     "slide_type": "fragment"
    }
   },
   "outputs": [
    {
     "data": {
      "text/plain": [
       "array([ 20,  10,   2,  10,  -8,  18,   7,  16, -14, -22,   8,   8,  -1,\n",
       "        -8,  21, -24, -20,  21,   5,  21, -24,  11,   7,   6,   4, -16,\n",
       "        -8,  13, -24,   8,  21, -19,  19,  -2,   5,  16, -19,  18,   6,\n",
       "       -14,  24,   6,  22,  15,  -9,  -2,   9,   6,  17,   2])"
      ]
     },
     "execution_count": 22,
     "metadata": {},
     "output_type": "execute_result"
    }
   ],
   "source": [
    "ar"
   ]
  },
  {
   "cell_type": "code",
   "execution_count": 23,
   "metadata": {
    "colab": {
     "base_uri": "https://localhost:8080/"
    },
    "executionInfo": {
     "elapsed": 443,
     "status": "ok",
     "timestamp": 1632729952961,
     "user": {
      "displayName": "Александр Лукьянов",
      "photoUrl": "https://lh3.googleusercontent.com/a/default-user=s64",
      "userId": "09720227785185197701"
     },
     "user_tz": -180
    },
    "id": "F7okCytjF0M7",
    "outputId": "60953090-6438-4b40-bd34-2b6f41d115f5",
    "slideshow": {
     "slide_type": "fragment"
    }
   },
   "outputs": [
    {
     "data": {
      "text/plain": [
       "array([20, 18, 16, 21, 21, 21, 11, 13, 21, 19, 16, 18, 24, 22, 15, 17])"
      ]
     },
     "execution_count": 23,
     "metadata": {},
     "output_type": "execute_result"
    }
   ],
   "source": [
    "ar[ar > 10]"
   ]
  },
  {
   "cell_type": "markdown",
   "metadata": {
    "id": "INFWXr8YF0M7",
    "slideshow": {
     "slide_type": "subslide"
    }
   },
   "source": [
    "Есть возможность задавать более сложные условия"
   ]
  },
  {
   "cell_type": "code",
   "execution_count": 24,
   "metadata": {
    "colab": {
     "base_uri": "https://localhost:8080/"
    },
    "executionInfo": {
     "elapsed": 8,
     "status": "ok",
     "timestamp": 1632729954387,
     "user": {
      "displayName": "Александр Лукьянов",
      "photoUrl": "https://lh3.googleusercontent.com/a/default-user=s64",
      "userId": "09720227785185197701"
     },
     "user_tz": -180
    },
    "id": "FWzqu_vYF0M8",
    "outputId": "385b789c-9e92-4172-b656-53a476ec824f",
    "slideshow": {
     "slide_type": "fragment"
    }
   },
   "outputs": [
    {
     "data": {
      "text/plain": [
       "array([18, 16, 11, 13, 19, 16, 18, 15, 17])"
      ]
     },
     "execution_count": 24,
     "metadata": {},
     "output_type": "execute_result"
    }
   ],
   "source": [
    "ar[(ar > 10) & (ar < 20)]"
   ]
  },
  {
   "cell_type": "markdown",
   "metadata": {
    "id": "s9ibtd-yF0M8",
    "slideshow": {
     "slide_type": "fragment"
    }
   },
   "source": [
    "Как это работает?"
   ]
  },
  {
   "cell_type": "code",
   "execution_count": 25,
   "metadata": {
    "colab": {
     "base_uri": "https://localhost:8080/"
    },
    "executionInfo": {
     "elapsed": 6,
     "status": "ok",
     "timestamp": 1632729955889,
     "user": {
      "displayName": "Александр Лукьянов",
      "photoUrl": "https://lh3.googleusercontent.com/a/default-user=s64",
      "userId": "09720227785185197701"
     },
     "user_tz": -180
    },
    "id": "-qWZFE1OF0M8",
    "outputId": "85135acd-4afb-4397-9700-7d9117789471",
    "slideshow": {
     "slide_type": "fragment"
    }
   },
   "outputs": [
    {
     "data": {
      "text/plain": [
       "array([ True, False, False, False, False,  True, False,  True, False,\n",
       "       False, False, False, False, False,  True, False, False,  True,\n",
       "       False,  True, False,  True, False, False, False, False, False,\n",
       "        True, False, False,  True, False,  True, False, False,  True,\n",
       "       False,  True, False, False,  True, False,  True,  True, False,\n",
       "       False, False, False,  True, False])"
      ]
     },
     "execution_count": 25,
     "metadata": {},
     "output_type": "execute_result"
    }
   ],
   "source": [
    "ar > 10"
   ]
  },
  {
   "cell_type": "markdown",
   "metadata": {
    "id": "DeH0D5gWF0M8",
    "slideshow": {
     "slide_type": "skip"
    }
   },
   "source": [
    "То есть при задании условия каждый элемент массива проверяется на соответствие заданному условию и формируется булевый массив. Важно, что созданный нами массив такой же длины, что и исходный, поэтому интерпретатор Python понимает какой элемент необходимо вернуть."
   ]
  },
  {
   "cell_type": "markdown",
   "metadata": {
    "id": "raJmESzGF0M-",
    "slideshow": {
     "slide_type": "slide"
    }
   },
   "source": [
    "Для этой задачи также подходит функция `where`, которая позволяет находить индексы элементов, которые подпадают под заданное условие."
   ]
  },
  {
   "cell_type": "code",
   "execution_count": 26,
   "metadata": {
    "colab": {
     "base_uri": "https://localhost:8080/"
    },
    "executionInfo": {
     "elapsed": 11,
     "status": "ok",
     "timestamp": 1632730083472,
     "user": {
      "displayName": "Александр Лукьянов",
      "photoUrl": "https://lh3.googleusercontent.com/a/default-user=s64",
      "userId": "09720227785185197701"
     },
     "user_tz": -180
    },
    "id": "-hmln4jQF0M-",
    "outputId": "3ad73194-4705-4710-b369-2f6963bc7edc",
    "slideshow": {
     "slide_type": "fragment"
    }
   },
   "outputs": [
    {
     "data": {
      "text/plain": [
       "(array([ 0,  5,  7, 14, 17, 19, 21, 27, 30, 32, 35, 37, 40, 42, 43, 48],\n",
       "       dtype=int64),)"
      ]
     },
     "execution_count": 26,
     "metadata": {},
     "output_type": "execute_result"
    }
   ],
   "source": [
    "indexes = np.where(ar > 10)\n",
    "indexes"
   ]
  },
  {
   "cell_type": "code",
   "execution_count": 27,
   "metadata": {
    "colab": {
     "base_uri": "https://localhost:8080/"
    },
    "executionInfo": {
     "elapsed": 12,
     "status": "ok",
     "timestamp": 1632730084841,
     "user": {
      "displayName": "Александр Лукьянов",
      "photoUrl": "https://lh3.googleusercontent.com/a/default-user=s64",
      "userId": "09720227785185197701"
     },
     "user_tz": -180
    },
    "id": "aEVCo11LF0M-",
    "outputId": "13088cc9-caad-48b9-dd1d-a6680716ed7e",
    "slideshow": {
     "slide_type": "fragment"
    }
   },
   "outputs": [
    {
     "data": {
      "text/plain": [
       "array([20, 18, 16, 21, 21, 21, 11, 13, 21, 19, 16, 18, 24, 22, 15, 17])"
      ]
     },
     "execution_count": 27,
     "metadata": {},
     "output_type": "execute_result"
    }
   ],
   "source": [
    "ar[indexes]"
   ]
  },
  {
   "cell_type": "code",
   "execution_count": 28,
   "metadata": {
    "id": "g5db3iQGF0M_",
    "slideshow": {
     "slide_type": "fragment"
    }
   },
   "outputs": [
    {
     "data": {
      "text/plain": [
       "(array([0, 0, 0, 1, 1, 1, 2, 2, 2, 2, 3, 3, 3], dtype=int64),\n",
       " array([2, 7, 8, 2, 5, 7, 1, 5, 6, 7, 3, 4, 5], dtype=int64))"
      ]
     },
     "execution_count": 28,
     "metadata": {},
     "output_type": "execute_result"
    }
   ],
   "source": [
    "ar_2d = np.random.randint(-25, 25, size=(4, 10))\n",
    "indexes_2d = np.where(ar_2d > 10)\n",
    "indexes_2d"
   ]
  },
  {
   "cell_type": "code",
   "execution_count": 29,
   "metadata": {
    "colab": {
     "base_uri": "https://localhost:8080/"
    },
    "executionInfo": {
     "elapsed": 9,
     "status": "ok",
     "timestamp": 1632730085263,
     "user": {
      "displayName": "Александр Лукьянов",
      "photoUrl": "https://lh3.googleusercontent.com/a/default-user=s64",
      "userId": "09720227785185197701"
     },
     "user_tz": -180
    },
    "id": "1iCsU8qrF0M_",
    "outputId": "ef435fc3-434d-4e9b-9513-8f4fbcce1218",
    "slideshow": {
     "slide_type": "fragment"
    }
   },
   "outputs": [
    {
     "data": {
      "text/plain": [
       "array([15, 20, 16, 18, 15, 12, 21, 17, 16, 18, 16, 16, 12])"
      ]
     },
     "execution_count": 29,
     "metadata": {},
     "output_type": "execute_result"
    }
   ],
   "source": [
    "ar_2d[indexes_2d]"
   ]
  },
  {
   "cell_type": "markdown",
   "metadata": {
    "id": "FQzvy93PF0M_",
    "slideshow": {
     "slide_type": "subslide"
    }
   },
   "source": [
    "Так же, как и для масок, можно делать сложные условия"
   ]
  },
  {
   "cell_type": "code",
   "execution_count": 30,
   "metadata": {
    "colab": {
     "base_uri": "https://localhost:8080/"
    },
    "executionInfo": {
     "elapsed": 10,
     "status": "ok",
     "timestamp": 1632730086280,
     "user": {
      "displayName": "Александр Лукьянов",
      "photoUrl": "https://lh3.googleusercontent.com/a/default-user=s64",
      "userId": "09720227785185197701"
     },
     "user_tz": -180
    },
    "id": "ECpWP_LqF0M_",
    "outputId": "38eb18e2-3e16-4271-8b93-5af2223d25f5",
    "slideshow": {
     "slide_type": "fragment"
    }
   },
   "outputs": [
    {
     "data": {
      "text/plain": [
       "array([15, 16, 18, 15, 12, 17, 16, 18, 16, 16, 12])"
      ]
     },
     "execution_count": 30,
     "metadata": {},
     "output_type": "execute_result"
    }
   ],
   "source": [
    "indexes_2d = np.where((ar_2d > 10) & (ar_2d < 20))\n",
    "ar_2d[indexes_2d]"
   ]
  },
  {
   "cell_type": "markdown",
   "metadata": {
    "id": "qyslAheIF0M_",
    "slideshow": {
     "slide_type": "fragment"
    }
   },
   "source": [
    "Кроме того функция where позволяет проводить фильтрацию элементов и заменять \"плохие\" элементы некоторыми другими значениями"
   ]
  },
  {
   "cell_type": "code",
   "execution_count": 31,
   "metadata": {},
   "outputs": [
    {
     "data": {
      "text/plain": [
       "array([[ 0,  0, 15,  0,  0,  0,  0, 20, 16,  0],\n",
       "       [ 0,  0, 18,  0,  0, 15,  0, 12,  0,  0],\n",
       "       [ 0, 21,  0,  0,  0, 17, 16, 18,  0,  0],\n",
       "       [ 0,  0,  0, 16, 16, 12,  0,  0,  0,  0]])"
      ]
     },
     "execution_count": 31,
     "metadata": {},
     "output_type": "execute_result"
    }
   ],
   "source": [
    "np.where(ar_2d > 10, ar_2d, 0)"
   ]
  },
  {
   "cell_type": "code",
   "execution_count": 32,
   "metadata": {
    "colab": {
     "base_uri": "https://localhost:8080/"
    },
    "executionInfo": {
     "elapsed": 11,
     "status": "ok",
     "timestamp": 1632730088378,
     "user": {
      "displayName": "Александр Лукьянов",
      "photoUrl": "https://lh3.googleusercontent.com/a/default-user=s64",
      "userId": "09720227785185197701"
     },
     "user_tz": -180
    },
    "id": "Tb7FnukbF0NA",
    "outputId": "1a736e42-2ae3-46d2-ff78-72a79c2060dd",
    "slideshow": {
     "slide_type": "fragment"
    }
   },
   "outputs": [
    {
     "data": {
      "text/plain": [
       "array([[ 0,  0, 20,  0,  0,  0,  0, 20, 20,  0],\n",
       "       [ 0,  0, 20,  0,  0, 20,  0, 20,  0,  0],\n",
       "       [ 0, 20,  0,  0,  0, 20, 20, 20,  0,  0],\n",
       "       [ 0,  0,  0, 20, 20, 20,  0,  0,  0,  0]])"
      ]
     },
     "execution_count": 32,
     "metadata": {},
     "output_type": "execute_result"
    }
   ],
   "source": [
    "np.where(ar_2d > 10, 20, 0)"
   ]
  },
  {
   "cell_type": "markdown",
   "metadata": {
    "id": "9w4-V_pdF0NF",
    "slideshow": {
     "slide_type": "slide"
    }
   },
   "source": [
    "### Некоторые функции `numpy`\n",
    "\n",
    "В библиотеке `numpy` реализовано множество дополнительных функций. С ними можно ознакомиться на странице с [документацией](https://numpy.org/doc/1.16/reference/routines.random.html). \n",
    "Здесь же мы отметим пару наиболее часто употребляемых функций.\n",
    "\n",
    "\n",
    "Например, хотим создать массив из чисел от -1 до 1 с шагом 0.2, функция range работает лишь с целыми числами и не справляется с этой задачей"
   ]
  },
  {
   "cell_type": "code",
   "execution_count": 33,
   "metadata": {
    "colab": {
     "base_uri": "https://localhost:8080/",
     "height": 168
    },
    "executionInfo": {
     "elapsed": 7,
     "status": "error",
     "timestamp": 1632730099659,
     "user": {
      "displayName": "Александр Лукьянов",
      "photoUrl": "https://lh3.googleusercontent.com/a/default-user=s64",
      "userId": "09720227785185197701"
     },
     "user_tz": -180
    },
    "id": "GTXRyTApF0NG",
    "outputId": "5271b175-ffc8-4b61-a97c-2c356797f489",
    "slideshow": {
     "slide_type": "fragment"
    }
   },
   "outputs": [
    {
     "ename": "TypeError",
     "evalue": "'float' object cannot be interpreted as an integer",
     "output_type": "error",
     "traceback": [
      "\u001b[1;31m---------------------------------------------------------------------------\u001b[0m",
      "\u001b[1;31mTypeError\u001b[0m                                 Traceback (most recent call last)",
      "Input \u001b[1;32mIn [33]\u001b[0m, in \u001b[0;36m<cell line: 1>\u001b[1;34m()\u001b[0m\n\u001b[1;32m----> 1\u001b[0m \u001b[38;5;28;43mrange\u001b[39;49m\u001b[43m(\u001b[49m\u001b[38;5;241;43m-\u001b[39;49m\u001b[38;5;241;43m1\u001b[39;49m\u001b[43m,\u001b[49m\u001b[43m \u001b[49m\u001b[38;5;241;43m1\u001b[39;49m\u001b[43m,\u001b[49m\u001b[43m \u001b[49m\u001b[38;5;241;43m0.2\u001b[39;49m\u001b[43m)\u001b[49m\n",
      "\u001b[1;31mTypeError\u001b[0m: 'float' object cannot be interpreted as an integer"
     ]
    }
   ],
   "source": [
    "range(-1, 1, 0.2)"
   ]
  },
  {
   "cell_type": "markdown",
   "metadata": {
    "slideshow": {
     "slide_type": "skip"
    }
   },
   "source": [
    "В `numpy` есть несколько функций для этой цели, функция linspace разбивает заданный отрезок на указанное число элементов. В данном примере отрезок от -1 до 1 рабивается  на 11 элементов, включая правую границу отрезка"
   ]
  },
  {
   "cell_type": "code",
   "execution_count": 34,
   "metadata": {
    "colab": {
     "base_uri": "https://localhost:8080/"
    },
    "executionInfo": {
     "elapsed": 7,
     "status": "ok",
     "timestamp": 1632730099017,
     "user": {
      "displayName": "Александр Лукьянов",
      "photoUrl": "https://lh3.googleusercontent.com/a/default-user=s64",
      "userId": "09720227785185197701"
     },
     "user_tz": -180
    },
    "id": "y89908xuF0NG",
    "outputId": "dd8af261-57de-49a7-fb63-e77c8d336d59",
    "slideshow": {
     "slide_type": "fragment"
    }
   },
   "outputs": [
    {
     "name": "stdout",
     "output_type": "stream",
     "text": [
      "[-1.  -0.8 -0.6 -0.4 -0.2  0.   0.2  0.4  0.6  0.8  1. ]\n"
     ]
    }
   ],
   "source": [
    "t = np.linspace(-1, 1, 11)\n",
    "print(t)"
   ]
  },
  {
   "cell_type": "markdown",
   "metadata": {
    "slideshow": {
     "slide_type": "skip"
    }
   },
   "source": [
    "Если мы не хотим включать правую границу, необходимо в именнованный аргумент endpoint передать значение False"
   ]
  },
  {
   "cell_type": "code",
   "execution_count": 35,
   "metadata": {
    "colab": {
     "base_uri": "https://localhost:8080/"
    },
    "executionInfo": {
     "elapsed": 10,
     "status": "ok",
     "timestamp": 1632730098633,
     "user": {
      "displayName": "Александр Лукьянов",
      "photoUrl": "https://lh3.googleusercontent.com/a/default-user=s64",
      "userId": "09720227785185197701"
     },
     "user_tz": -180
    },
    "id": "ugZlNW2QF0NF",
    "outputId": "d9e3e8d4-0afb-46be-f3b6-a5a713221f92",
    "slideshow": {
     "slide_type": "fragment"
    }
   },
   "outputs": [
    {
     "name": "stdout",
     "output_type": "stream",
     "text": [
      "[-1.  -0.8 -0.6 -0.4 -0.2  0.   0.2  0.4  0.6  0.8]\n"
     ]
    }
   ],
   "source": [
    "t = np.linspace(-1, 1, 10, endpoint=False)\n",
    "print(t)"
   ]
  },
  {
   "cell_type": "markdown",
   "metadata": {
    "slideshow": {
     "slide_type": "skip"
    }
   },
   "source": [
    "Также есть функция arange которая разбивает заданный отрезок уже с определенным шагом, для нее правая граница отрезка не включается по умолчанию"
   ]
  },
  {
   "cell_type": "code",
   "execution_count": 36,
   "metadata": {
    "colab": {
     "base_uri": "https://localhost:8080/"
    },
    "executionInfo": {
     "elapsed": 9,
     "status": "ok",
     "timestamp": 1632730100432,
     "user": {
      "displayName": "Александр Лукьянов",
      "photoUrl": "https://lh3.googleusercontent.com/a/default-user=s64",
      "userId": "09720227785185197701"
     },
     "user_tz": -180
    },
    "id": "t_kP-7h1F0NG",
    "outputId": "460682e5-e536-477b-839e-86abcf362286",
    "slideshow": {
     "slide_type": "fragment"
    }
   },
   "outputs": [
    {
     "name": "stdout",
     "output_type": "stream",
     "text": [
      "[-1.00000000e+00 -8.00000000e-01 -6.00000000e-01 -4.00000000e-01\n",
      " -2.00000000e-01 -2.22044605e-16  2.00000000e-01  4.00000000e-01\n",
      "  6.00000000e-01  8.00000000e-01]\n"
     ]
    }
   ],
   "source": [
    "t = np.arange(-1, 1, 0.2)\n",
    "print(t)"
   ]
  },
  {
   "cell_type": "markdown",
   "metadata": {
    "id": "H9YItufmF0NG",
    "slideshow": {
     "slide_type": "subslide"
    }
   },
   "source": [
    "Алгоритм сортировки"
   ]
  },
  {
   "cell_type": "code",
   "execution_count": 37,
   "metadata": {
    "ExecuteTime": {
     "end_time": "2021-03-10T14:44:30.601373Z",
     "start_time": "2021-03-10T14:44:30.589123Z"
    },
    "colab": {
     "base_uri": "https://localhost:8080/"
    },
    "executionInfo": {
     "elapsed": 11,
     "status": "ok",
     "timestamp": 1632730121624,
     "user": {
      "displayName": "Александр Лукьянов",
      "photoUrl": "https://lh3.googleusercontent.com/a/default-user=s64",
      "userId": "09720227785185197701"
     },
     "user_tz": -180
    },
    "id": "9FZnnsdmF0NH",
    "outputId": "a85871d9-f265-477d-f474-4b42302b7536",
    "slideshow": {
     "slide_type": "fragment"
    }
   },
   "outputs": [
    {
     "name": "stdout",
     "output_type": "stream",
     "text": [
      "[ 6  2 -1  2  8 -2  3 -7  7 -1  1  9  0  1 -2]\n",
      "[-7 -2 -2 -1 -1  0  1  1  2  2  3  6  7  8  9]\n"
     ]
    }
   ],
   "source": [
    "a = np.random.randint(-10, 10, 15)\n",
    "print(a)\n",
    "print(np.sort(a))"
   ]
  },
  {
   "cell_type": "markdown",
   "metadata": {
    "id": "S_LG5zFYF0NH",
    "slideshow": {
     "slide_type": "fragment"
    }
   },
   "source": [
    "Функция выше возвращает отсортированную копию массива. Если нужна сортировка самого массива без копий:"
   ]
  },
  {
   "cell_type": "code",
   "execution_count": 38,
   "metadata": {
    "ExecuteTime": {
     "end_time": "2021-03-10T14:44:30.615184Z",
     "start_time": "2021-03-10T14:44:30.606192Z"
    },
    "id": "gWSV-EqFF0NH",
    "slideshow": {
     "slide_type": "fragment"
    }
   },
   "outputs": [
    {
     "data": {
      "text/plain": [
       "array([-7, -2, -2, -1, -1,  0,  1,  1,  2,  2,  3,  6,  7,  8,  9])"
      ]
     },
     "execution_count": 38,
     "metadata": {},
     "output_type": "execute_result"
    }
   ],
   "source": [
    "a.sort()\n",
    "a"
   ]
  },
  {
   "cell_type": "markdown",
   "metadata": {
    "id": "5XDqyvg-F0NH",
    "slideshow": {
     "slide_type": "subslide"
    }
   },
   "source": [
    "Также иногда бывает полезно получить только список индексов, соответствующих отсортированному массиву"
   ]
  },
  {
   "cell_type": "code",
   "execution_count": 39,
   "metadata": {
    "ExecuteTime": {
     "end_time": "2021-03-10T14:44:30.633550Z",
     "start_time": "2021-03-10T14:44:30.622462Z"
    },
    "colab": {
     "base_uri": "https://localhost:8080/"
    },
    "executionInfo": {
     "elapsed": 537,
     "status": "ok",
     "timestamp": 1632730133306,
     "user": {
      "displayName": "Александр Лукьянов",
      "photoUrl": "https://lh3.googleusercontent.com/a/default-user=s64",
      "userId": "09720227785185197701"
     },
     "user_tz": -180
    },
    "id": "G0HSRdO3F0NH",
    "outputId": "51c9c6d4-28be-45b2-9853-6241fb917b16",
    "slideshow": {
     "slide_type": "fragment"
    }
   },
   "outputs": [
    {
     "name": "stdout",
     "output_type": "stream",
     "text": [
      "Элменты: [-7  6  4 -2 -6  9  2 -5 -7  9 -1 -8 -6 -7 -3]\n",
      "Индексы для отсортированного массива: [11  0  8 13  4 12  7 14  3 10  6  2  1  5  9]\n",
      "Отсортированный массив: [-8 -7 -7 -7 -6 -6 -5 -3 -2 -1  2  4  6  9  9]\n"
     ]
    }
   ],
   "source": [
    "a = np.random.randint(-10, 10, 15)\n",
    "print(f\"Элменты: {a}\")\n",
    "print(f\"Индексы для отсортированного массива: {np.argsort(a)}\")\n",
    "print(f\"Отсортированный массив: {a[np.argsort(a)]}\")"
   ]
  },
  {
   "cell_type": "markdown",
   "metadata": {
    "slideshow": {
     "slide_type": "fragment"
    }
   },
   "source": [
    "Найти индекс максимального или минимального элемента"
   ]
  },
  {
   "cell_type": "code",
   "execution_count": 40,
   "metadata": {
    "ExecuteTime": {
     "end_time": "2021-03-10T14:44:30.638882Z",
     "start_time": "2021-03-10T14:44:30.635244Z"
    },
    "colab": {
     "base_uri": "https://localhost:8080/"
    },
    "executionInfo": {
     "elapsed": 7,
     "status": "ok",
     "timestamp": 1632730134812,
     "user": {
      "displayName": "Александр Лукьянов",
      "photoUrl": "https://lh3.googleusercontent.com/a/default-user=s64",
      "userId": "09720227785185197701"
     },
     "user_tz": -180
    },
    "id": "lwAOyDmkF0NH",
    "outputId": "081d2f50-5054-4f09-8ce9-6204b38be1da",
    "slideshow": {
     "slide_type": "fragment"
    }
   },
   "outputs": [
    {
     "name": "stdout",
     "output_type": "stream",
     "text": [
      "5\n"
     ]
    },
    {
     "data": {
      "text/plain": [
       "9"
      ]
     },
     "execution_count": 40,
     "metadata": {},
     "output_type": "execute_result"
    }
   ],
   "source": [
    "print(np.argmax(a))\n",
    "a[np.argmax(a)]"
   ]
  },
  {
   "cell_type": "code",
   "execution_count": 41,
   "metadata": {
    "ExecuteTime": {
     "end_time": "2021-03-10T14:44:30.644008Z",
     "start_time": "2021-03-10T14:44:30.640409Z"
    },
    "colab": {
     "base_uri": "https://localhost:8080/"
    },
    "executionInfo": {
     "elapsed": 10,
     "status": "ok",
     "timestamp": 1632730135205,
     "user": {
      "displayName": "Александр Лукьянов",
      "photoUrl": "https://lh3.googleusercontent.com/a/default-user=s64",
      "userId": "09720227785185197701"
     },
     "user_tz": -180
    },
    "id": "CzONVuqXF0NI",
    "outputId": "a52b06b1-b376-4d3b-e493-ca4157d511d2",
    "slideshow": {
     "slide_type": "fragment"
    }
   },
   "outputs": [
    {
     "name": "stdout",
     "output_type": "stream",
     "text": [
      "11\n"
     ]
    },
    {
     "data": {
      "text/plain": [
       "-8"
      ]
     },
     "execution_count": 41,
     "metadata": {},
     "output_type": "execute_result"
    }
   ],
   "source": [
    "print(np.argmin(a))\n",
    "a[np.argmin(a)]"
   ]
  },
  {
   "cell_type": "markdown",
   "metadata": {
    "slideshow": {
     "slide_type": "subslide"
    }
   },
   "source": [
    "#### Сумма\n",
    "\n",
    "Для расчета суммы элементов массива используется функция sum, при работе с одномерными массивами она ведет сбея также как и встроенная функция sum"
   ]
  },
  {
   "cell_type": "code",
   "execution_count": 42,
   "metadata": {
    "slideshow": {
     "slide_type": "fragment"
    }
   },
   "outputs": [
    {
     "name": "stdout",
     "output_type": "stream",
     "text": [
      "10\n",
      "10\n"
     ]
    }
   ],
   "source": [
    "a = np.array([1, 2, 3, 4])\n",
    "print(np.sum(a))\n",
    "print(sum(a))"
   ]
  },
  {
   "cell_type": "markdown",
   "metadata": {
    "slideshow": {
     "slide_type": "skip"
    }
   },
   "source": [
    "Однако для многомерных массивов это уже не так. Например у нас есть матрица а"
   ]
  },
  {
   "cell_type": "code",
   "execution_count": 43,
   "metadata": {
    "slideshow": {
     "slide_type": "fragment"
    }
   },
   "outputs": [
    {
     "data": {
      "text/plain": [
       "array([[1, 2],\n",
       "       [3, 4]])"
      ]
     },
     "execution_count": 43,
     "metadata": {},
     "output_type": "execute_result"
    }
   ],
   "source": [
    "a = np.array([[1, 2], [3, 4]])\n",
    "a"
   ]
  },
  {
   "cell_type": "code",
   "execution_count": 44,
   "metadata": {
    "slideshow": {
     "slide_type": "fragment"
    }
   },
   "outputs": [
    {
     "name": "stdout",
     "output_type": "stream",
     "text": [
      "10\n",
      "[4 6]\n"
     ]
    }
   ],
   "source": [
    "print(np.sum(a))\n",
    "print(sum(a))"
   ]
  },
  {
   "cell_type": "code",
   "execution_count": 45,
   "metadata": {
    "slideshow": {
     "slide_type": "fragment"
    }
   },
   "outputs": [
    {
     "data": {
      "text/plain": [
       "array([4, 6])"
      ]
     },
     "execution_count": 45,
     "metadata": {},
     "output_type": "execute_result"
    }
   ],
   "source": [
    "np.sum(a, axis = 0)"
   ]
  },
  {
   "cell_type": "code",
   "execution_count": 46,
   "metadata": {
    "slideshow": {
     "slide_type": "fragment"
    }
   },
   "outputs": [
    {
     "data": {
      "text/plain": [
       "array([3, 7])"
      ]
     },
     "execution_count": 46,
     "metadata": {},
     "output_type": "execute_result"
    }
   ],
   "source": [
    "np.sum(a, axis = 1)"
   ]
  },
  {
   "cell_type": "markdown",
   "metadata": {
    "slideshow": {
     "slide_type": "subslide"
    }
   },
   "source": [
    "Норма\n",
    "\n",
    "$||x|| = \\sqrt{\\sum_i {x^2_i}}$\n",
    "\n",
    "Бывает необходимо посчитать, норму нашего массива. Определим норму массива как корень из суммы квадратов его элементов. Мы конечно можем задать эту формулу напрямую, однако в `numpy` есть функция, которая может сделать это за нас"
   ]
  },
  {
   "cell_type": "code",
   "execution_count": 47,
   "metadata": {
    "slideshow": {
     "slide_type": "fragment"
    }
   },
   "outputs": [
    {
     "data": {
      "text/plain": [
       "5.477225575051661"
      ]
     },
     "execution_count": 47,
     "metadata": {},
     "output_type": "execute_result"
    }
   ],
   "source": [
    "a = np.array([1, 2, 3, 4])\n",
    "np.sum(a**2)**0.5"
   ]
  },
  {
   "cell_type": "code",
   "execution_count": 48,
   "metadata": {
    "slideshow": {
     "slide_type": "fragment"
    }
   },
   "outputs": [
    {
     "data": {
      "text/plain": [
       "5.477225575051661"
      ]
     },
     "execution_count": 48,
     "metadata": {},
     "output_type": "execute_result"
    }
   ],
   "source": [
    "np.linalg.norm(a)"
   ]
  },
  {
   "cell_type": "markdown",
   "metadata": {
    "slideshow": {
     "slide_type": "skip"
    }
   },
   "source": [
    "Ее преимущество состоит в том, что как и для суммы мы можем задать ось вдоль которой вычисляется норма. Если мы хотим посчитать норму массива, элементами которого будут наши строки, то необходимо аргумент axis задать нулем"
   ]
  },
  {
   "cell_type": "code",
   "execution_count": 49,
   "metadata": {
    "slideshow": {
     "slide_type": "fragment"
    }
   },
   "outputs": [
    {
     "data": {
      "text/plain": [
       "array([[3, 4],\n",
       "       [6, 8]])"
      ]
     },
     "execution_count": 49,
     "metadata": {},
     "output_type": "execute_result"
    }
   ],
   "source": [
    "a = np.array([[3, 4], [6, 8]])\n",
    "a"
   ]
  },
  {
   "cell_type": "code",
   "execution_count": 50,
   "metadata": {
    "slideshow": {
     "slide_type": "fragment"
    }
   },
   "outputs": [
    {
     "data": {
      "text/plain": [
       "array([6.70820393, 8.94427191])"
      ]
     },
     "execution_count": 50,
     "metadata": {},
     "output_type": "execute_result"
    }
   ],
   "source": [
    "np.linalg.norm(a, axis = 0)"
   ]
  },
  {
   "cell_type": "markdown",
   "metadata": {
    "slideshow": {
     "slide_type": "skip"
    }
   },
   "source": [
    "Если мы хотим посчитать норму массива, элементами которого будут столбцы, то axis уже должен равняться единице"
   ]
  },
  {
   "cell_type": "code",
   "execution_count": 51,
   "metadata": {
    "slideshow": {
     "slide_type": "fragment"
    }
   },
   "outputs": [
    {
     "data": {
      "text/plain": [
       "array([ 5., 10.])"
      ]
     },
     "execution_count": 51,
     "metadata": {},
     "output_type": "execute_result"
    }
   ],
   "source": [
    "np.linalg.norm(a, axis = 1)"
   ]
  },
  {
   "cell_type": "markdown",
   "metadata": {
    "slideshow": {
     "slide_type": "subslide"
    }
   },
   "source": [
    "Другие функции Numpy"
   ]
  },
  {
   "cell_type": "code",
   "execution_count": 52,
   "metadata": {
    "colab": {
     "base_uri": "https://localhost:8080/"
    },
    "executionInfo": {
     "elapsed": 9,
     "status": "ok",
     "timestamp": 1632730102561,
     "user": {
      "displayName": "Александр Лукьянов",
      "photoUrl": "https://lh3.googleusercontent.com/a/default-user=s64",
      "userId": "09720227785185197701"
     },
     "user_tz": -180
    },
    "id": "KVrcbyHzF0NG",
    "outputId": "e0fc363c-7ddb-4697-9a1d-53fa3022b2f2",
    "slideshow": {
     "slide_type": "fragment"
    }
   },
   "outputs": [
    {
     "name": "stdout",
     "output_type": "stream",
     "text": [
      "cos =  [-1.  1.]\n",
      "sin =  [1.2246468e-16 0.0000000e+00]\n",
      "exp =  [-1.-1.2246468e-16j  1.-0.0000000e+00j]\n",
      "гиперолический синус =  [11.54873936  0.        ]\n"
     ]
    }
   ],
   "source": [
    "# cos, sin, exp и т.д.\n",
    "t = np.array([np.pi, 0])\n",
    "print('cos = ', np.cos(t))\n",
    "print('sin = ', np.sin(t))\n",
    "print('exp = ', np.exp(-1j * t))\n",
    "print('гиперолический синус = ', np.sinh(t))"
   ]
  },
  {
   "cell_type": "markdown",
   "metadata": {
    "slideshow": {
     "slide_type": "fragment"
    }
   },
   "source": [
    "Множество операций с матрицами"
   ]
  },
  {
   "cell_type": "code",
   "execution_count": 54,
   "metadata": {
    "slideshow": {
     "slide_type": "fragment"
    }
   },
   "outputs": [],
   "source": [
    "a = np.array([[0, 1], [1, 0]])\n",
    "b = 2 * np.eye(2)"
   ]
  },
  {
   "cell_type": "code",
   "execution_count": 57,
   "metadata": {
    "slideshow": {
     "slide_type": "fragment"
    }
   },
   "outputs": [
    {
     "name": "stdout",
     "output_type": "stream",
     "text": [
      "Поэлементное умножение = \n",
      " [[0. 0.]\n",
      " [0. 0.]]\n"
     ]
    }
   ],
   "source": [
    "print('Поэлементное умножение = \\n', a * b)"
   ]
  },
  {
   "cell_type": "code",
   "execution_count": 58,
   "metadata": {
    "slideshow": {
     "slide_type": "fragment"
    }
   },
   "outputs": [
    {
     "name": "stdout",
     "output_type": "stream",
     "text": [
      "Матричное умножение = \n",
      " [[0. 2.]\n",
      " [2. 0.]]\n"
     ]
    }
   ],
   "source": [
    "print('Матричное умножение = \\n', np.dot(a, b))"
   ]
  },
  {
   "cell_type": "code",
   "execution_count": 62,
   "metadata": {
    "slideshow": {
     "slide_type": "fragment"
    }
   },
   "outputs": [
    {
     "name": "stdout",
     "output_type": "stream",
     "text": [
      "Диагональ а =  [0 0]\n"
     ]
    }
   ],
   "source": [
    "print('Диагональ а = ', np.diagonal(a))"
   ]
  },
  {
   "cell_type": "code",
   "execution_count": 60,
   "metadata": {
    "slideshow": {
     "slide_type": "fragment"
    }
   },
   "outputs": [
    {
     "name": "stdout",
     "output_type": "stream",
     "text": [
      "Собственные значения и функции а = \n",
      " (array([ 1., -1.]), array([[ 0.70710678, -0.70710678],\n",
      "       [ 0.70710678,  0.70710678]]))\n"
     ]
    }
   ],
   "source": [
    "print('Собственные значения и функции а = \\n', np.linalg.eig(a))"
   ]
  },
  {
   "cell_type": "code",
   "execution_count": 61,
   "metadata": {
    "slideshow": {
     "slide_type": "fragment"
    }
   },
   "outputs": [
    {
     "name": "stdout",
     "output_type": "stream",
     "text": [
      "Обратная матрица для b = \n",
      " [[0.5 0. ]\n",
      " [0.  0.5]]\n"
     ]
    }
   ],
   "source": [
    "print('Обратная матрица для b = \\n', np.linalg.inv(b))"
   ]
  },
  {
   "cell_type": "markdown",
   "metadata": {
    "slideshow": {
     "slide_type": "skip"
    }
   },
   "source": [
    "Также есть возможность записывать и считывать одномерные и двумерные массивы с помощью функций `savetxt` и `loadtxt`. К примеру, здесь мы с помощью функции `savetxt` записываем массив `b` в файл с именем `123`, а с помощью функции `loadtxt` считываем массив из файла `123` в переменную `a`."
   ]
  },
  {
   "cell_type": "code",
   "execution_count": 63,
   "metadata": {
    "colab": {
     "base_uri": "https://localhost:8080/"
    },
    "executionInfo": {
     "elapsed": 6,
     "status": "ok",
     "timestamp": 1632730137628,
     "user": {
      "displayName": "Александр Лукьянов",
      "photoUrl": "https://lh3.googleusercontent.com/a/default-user=s64",
      "userId": "09720227785185197701"
     },
     "user_tz": -180
    },
    "id": "fKD12nDLF0NI",
    "outputId": "b4975e90-5832-4a18-ec8d-7ccb8f283172",
    "slideshow": {
     "slide_type": "fragment"
    }
   },
   "outputs": [
    {
     "name": "stdout",
     "output_type": "stream",
     "text": [
      "[[1. 2. 3.]\n",
      " [4. 5. 6.]]\n"
     ]
    }
   ],
   "source": [
    "b = np.array([[1, 2, 3], [4, 5, 6]])\n",
    "np.savetxt('123', b)\n",
    "a = np.loadtxt('123')\n",
    "print(a)"
   ]
  },
  {
   "cell_type": "markdown",
   "metadata": {
    "id": "Tc6MgJGbTigF",
    "slideshow": {
     "slide_type": "slide"
    }
   },
   "source": [
    "## Задачи\n",
    "\n",
    "Массив задан дискретной функцией $f(t_i) = t_ie^t_i - t_i^4$, где $t_i \\in [0, 5]$ с шагом $\\Delta t = 0.001$. Необходимо найти максимальное значение массива на отрезке $t_i \\in [0, 2]$, а также $t_{max}$ при котором оно достигается, а затем минимальное значение на промежутке $t_i \\in [2, 5]$ и $t_{min}$ при котором оно достигается "
   ]
  },
  {
   "cell_type": "code",
   "execution_count": 67,
   "metadata": {
    "slideshow": {
     "slide_type": "fragment"
    }
   },
   "outputs": [],
   "source": [
    "dt = 1e-03\n",
    "t = np.arange(0, 5 + dt, dt)\n",
    "f = t * np.exp(t) - t**4 "
   ]
  },
  {
   "cell_type": "markdown",
   "metadata": {
    "slideshow": {
     "slide_type": "subslide"
    }
   },
   "source": [
    "Найдем максимальное и минимальное значение массива на промежутке"
   ]
  },
  {
   "cell_type": "code",
   "execution_count": 70,
   "metadata": {
    "colab": {
     "base_uri": "https://localhost:8080/"
    },
    "executionInfo": {
     "elapsed": 16,
     "status": "ok",
     "timestamp": 1626626237764,
     "user": {
      "displayName": "Александр Лукьянов",
      "photoUrl": "",
      "userId": "09720227785185197701"
     },
     "user_tz": -180
    },
    "id": "Uy53eLTSZeD3",
    "outputId": "6848df34-5066-4279-a16a-f832743d5ff8",
    "slideshow": {
     "slide_type": "fragment"
    }
   },
   "outputs": [
    {
     "name": "stdout",
     "output_type": "stream",
     "text": [
      "maximum =  1.9216334091749405\n",
      "minimum =  -38.78383461465896\n"
     ]
    }
   ],
   "source": [
    "print('maximum = ', f[t <= 2].max())\n",
    "print('minimum = ', f[t >= 2].min())"
   ]
  },
  {
   "cell_type": "markdown",
   "metadata": {},
   "source": [
    "или так "
   ]
  },
  {
   "cell_type": "code",
   "execution_count": 71,
   "metadata": {},
   "outputs": [
    {
     "name": "stdout",
     "output_type": "stream",
     "text": [
      "maximum =  1.9216334091749405\n",
      "minimum =  -38.78383461465896\n"
     ]
    }
   ],
   "source": [
    "print('maximum = ', np.max(f[t <= 2]))\n",
    "print('minimum = ', np.min(f[t >= 2]))"
   ]
  },
  {
   "cell_type": "markdown",
   "metadata": {
    "slideshow": {
     "slide_type": "subslide"
    }
   },
   "source": [
    "Теперь посмотрим при каким значениям `t` они соответствуют"
   ]
  },
  {
   "cell_type": "markdown",
   "metadata": {
    "slideshow": {
     "slide_type": "fragment"
    }
   },
   "source": [
    "Первый способ"
   ]
  },
  {
   "cell_type": "code",
   "execution_count": 72,
   "metadata": {
    "slideshow": {
     "slide_type": "fragment"
    }
   },
   "outputs": [
    {
     "data": {
      "text/plain": [
       "1.9216334091749405"
      ]
     },
     "execution_count": 72,
     "metadata": {},
     "output_type": "execute_result"
    }
   ],
   "source": [
    "index = np.argmax(f[t <= 2])\n",
    "f[index]"
   ]
  },
  {
   "cell_type": "code",
   "execution_count": 76,
   "metadata": {
    "scrolled": true,
    "slideshow": {
     "slide_type": "fragment"
    }
   },
   "outputs": [
    {
     "name": "stdout",
     "output_type": "stream",
     "text": [
      "tmax = 1.2550\n"
     ]
    }
   ],
   "source": [
    "tmax = t[t <= 2][index]\n",
    "print(f'tmax = {tmax:.4f}')"
   ]
  },
  {
   "cell_type": "markdown",
   "metadata": {
    "slideshow": {
     "slide_type": "fragment"
    }
   },
   "source": [
    "Второй способ"
   ]
  },
  {
   "cell_type": "code",
   "execution_count": 77,
   "metadata": {
    "slideshow": {
     "slide_type": "fragment"
    }
   },
   "outputs": [
    {
     "data": {
      "text/plain": [
       "(array([1255], dtype=int64),)"
      ]
     },
     "execution_count": 77,
     "metadata": {},
     "output_type": "execute_result"
    }
   ],
   "source": [
    "fmax = f[t <= 2].max()\n",
    "np.where(f == fmax)"
   ]
  },
  {
   "cell_type": "code",
   "execution_count": 80,
   "metadata": {
    "slideshow": {
     "slide_type": "fragment"
    }
   },
   "outputs": [
    {
     "name": "stdout",
     "output_type": "stream",
     "text": [
      "[1255]\n",
      "1255\n"
     ]
    }
   ],
   "source": [
    "print(np.where(f == fmax)[0])\n",
    "print(np.where(f == fmax)[0][0])"
   ]
  },
  {
   "cell_type": "code",
   "execution_count": 82,
   "metadata": {
    "slideshow": {
     "slide_type": "fragment"
    }
   },
   "outputs": [
    {
     "name": "stdout",
     "output_type": "stream",
     "text": [
      "tmax = 1.2550\n"
     ]
    }
   ],
   "source": [
    "index = np.where(f == fmax)[0][0]\n",
    "print(f'tmax = {tmax:.4f}')"
   ]
  },
  {
   "cell_type": "markdown",
   "metadata": {},
   "source": [
    "Аналонично можно получить значение `t` для положения минимума.\n",
    "Таким образом положения максимума и минимума:"
   ]
  },
  {
   "cell_type": "code",
   "execution_count": 86,
   "metadata": {
    "colab": {
     "base_uri": "https://localhost:8080/"
    },
    "executionInfo": {
     "elapsed": 13,
     "status": "ok",
     "timestamp": 1626626237765,
     "user": {
      "displayName": "Александр Лукьянов",
      "photoUrl": "",
      "userId": "09720227785185197701"
     },
     "user_tz": -180
    },
    "id": "N8uRhJQKa1n3",
    "outputId": "342d569e-d2cf-4acc-d9b6-1cdb0d979301",
    "slideshow": {
     "slide_type": "fragment"
    }
   },
   "outputs": [
    {
     "name": "stdout",
     "output_type": "stream",
     "text": [
      "I.  tmax = 1.2550\n",
      "II. tmax = 1.2550\n",
      "I.  tmin = 3.8540\n",
      "II. tmin = 3.8540\n"
     ]
    }
   ],
   "source": [
    "index = f[t <= 2].argmax()\n",
    "tmax = t[t <= 2][index]# первый вариант\n",
    "print(f'I.  tmax = {tmax:.4f}')\n",
    "index = np.where(f == f[t <= 2].max())[0][0]#второй вариант\n",
    "print(f'II. tmax = {t[index]:.4f}')\n",
    "index = f[t >= 2].argmin()\n",
    "tmin = t[t >= 2][index]# первый вариант\n",
    "print(f'I.  tmin = {tmin:.4f}')\n",
    "index = np.where(f == f[t >= 2].min())[0][0]#второй вариант\n",
    "print(f'II. tmin = {t[index]:.4f}')"
   ]
  },
  {
   "cell_type": "markdown",
   "metadata": {
    "id": "p2mB4VhXvbLj",
    "slideshow": {
     "slide_type": "slide"
    }
   },
   "source": [
    "№2. Напишите функции для преобразования координат из декартовой системы в сферическую и наоборот\n",
    "\n",
    "Перейдем к решению задачи. Пусть имеется n точек с координатами $[x_i, y_i, z_i]$ для $i = 0,1,..,n-1$. Найдем для них координаты в сферической системе $[r_i, \\theta_i, \\phi_i]$, а потом для этих координат решим обратную задачу"
   ]
  },
  {
   "cell_type": "code",
   "execution_count": 87,
   "metadata": {
    "id": "7EwDxIt-wjoh",
    "slideshow": {
     "slide_type": "fragment"
    }
   },
   "outputs": [],
   "source": [
    "n = 50\n",
    "x = np.linspace(-10, 10, n)\n",
    "y = np.linspace(-10, 10, n)\n",
    "z = np.linspace(-10, 10, n)"
   ]
  },
  {
   "cell_type": "markdown",
   "metadata": {
    "slideshow": {
     "slide_type": "fragment"
    }
   },
   "source": [
    "$r = \\sqrt{x^2 + y^2 + z^2}$\n",
    "\n",
    "$\\theta = arctg(\\sqrt{x^2 + y^2} / z)$\n",
    "\n",
    "$\\phi = arctg(x / y)$"
   ]
  },
  {
   "cell_type": "code",
   "execution_count": 88,
   "metadata": {
    "id": "sfZUIje0ZrCC",
    "slideshow": {
     "slide_type": "fragment"
    }
   },
   "outputs": [],
   "source": [
    "def cartesian_to_sphere(x, y, z):\n",
    "    r = np.sqrt(x**2 + y**2 + z**2)\n",
    "    theta = np.arctan2(np.sqrt(x**2 + y**2), z)\n",
    "    phi = np.arctan2(y, x)\n",
    "    return r, theta, phi"
   ]
  },
  {
   "cell_type": "markdown",
   "metadata": {
    "slideshow": {
     "slide_type": "subslide"
    }
   },
   "source": [
    "Посмотрим, что получается"
   ]
  },
  {
   "cell_type": "code",
   "execution_count": 90,
   "metadata": {
    "slideshow": {
     "slide_type": "fragment"
    }
   },
   "outputs": [],
   "source": [
    "r, theta, phi = cartesian_to_sphere(x, y, z)"
   ]
  },
  {
   "cell_type": "code",
   "execution_count": 91,
   "metadata": {},
   "outputs": [
    {
     "name": "stdout",
     "output_type": "stream",
     "text": [
      "[17.32050808 16.61354856 15.90658905 15.19962954 14.49267002 13.78571051\n",
      " 13.078751   12.37179148 11.66483197 10.95787246 10.25091294  9.54395343\n",
      "  8.83699392  8.1300344   7.42307489  6.71611538  6.00915586  5.30219635\n",
      "  4.59523684  3.88827732  3.18131781  2.4743583   1.76739878  1.06043927\n",
      "  0.35347976  0.35347976  1.06043927  1.76739878  2.4743583   3.18131781\n",
      "  3.88827732  4.59523684  5.30219635  6.00915586  6.71611538  7.42307489\n",
      "  8.1300344   8.83699392  9.54395343 10.25091294 10.95787246 11.66483197\n",
      " 12.37179148 13.078751   13.78571051 14.49267002 15.19962954 15.90658905\n",
      " 16.61354856 17.32050808]\n"
     ]
    }
   ],
   "source": [
    "print(r)"
   ]
  },
  {
   "cell_type": "markdown",
   "metadata": {
    "slideshow": {
     "slide_type": "subslide"
    }
   },
   "source": [
    "Теперь решим обратную задачу"
   ]
  },
  {
   "cell_type": "markdown",
   "metadata": {
    "slideshow": {
     "slide_type": "fragment"
    }
   },
   "source": [
    "$x = rsin(\\theta)cos(\\phi)$\n",
    "\n",
    "$y = rsin(\\theta)sin(\\phi)$\n",
    "\n",
    "$z = rcos(\\theta)$\n"
   ]
  },
  {
   "cell_type": "code",
   "execution_count": 92,
   "metadata": {
    "id": "wz6ZrK8YwO4A",
    "slideshow": {
     "slide_type": "fragment"
    }
   },
   "outputs": [],
   "source": [
    "def sphere_to_cartesian(r, theta, phi):\n",
    "    x = r * np.sin(theta) * np.cos(phi)\n",
    "    y = r * np.sin(theta) * np.sin(phi)\n",
    "    z = r * np.cos(theta)\n",
    "    return x, y, z"
   ]
  },
  {
   "cell_type": "markdown",
   "metadata": {
    "slideshow": {
     "slide_type": "subslide"
    }
   },
   "source": [
    "Проверим наше решение"
   ]
  },
  {
   "cell_type": "code",
   "execution_count": 93,
   "metadata": {
    "id": "9XWkyss-w7Hx",
    "slideshow": {
     "slide_type": "fragment"
    }
   },
   "outputs": [],
   "source": [
    "x_new, y_new, z_new = sphere_to_cartesian(r, theta, phi)"
   ]
  },
  {
   "cell_type": "code",
   "execution_count": 94,
   "metadata": {
    "slideshow": {
     "slide_type": "fragment"
    }
   },
   "outputs": [
    {
     "data": {
      "text/plain": [
       "array([ True,  True,  True,  True,  True,  True,  True,  True,  True,\n",
       "        True,  True,  True,  True,  True,  True,  True,  True,  True,\n",
       "        True,  True,  True,  True,  True,  True,  True,  True,  True,\n",
       "        True,  True,  True,  True,  True,  True,  True,  True,  True,\n",
       "        True,  True,  True,  True,  True,  True,  True,  True,  True,\n",
       "        True,  True,  True,  True,  True])"
      ]
     },
     "execution_count": 94,
     "metadata": {},
     "output_type": "execute_result"
    }
   ],
   "source": [
    "np.abs(x_new - x) < 1e-8"
   ]
  },
  {
   "cell_type": "code",
   "execution_count": 95,
   "metadata": {
    "colab": {
     "base_uri": "https://localhost:8080/"
    },
    "executionInfo": {
     "elapsed": 9,
     "status": "ok",
     "timestamp": 1626626239587,
     "user": {
      "displayName": "Александр Лукьянов",
      "photoUrl": "",
      "userId": "09720227785185197701"
     },
     "user_tz": -180
    },
    "id": "0r3S9lh2xAIn",
    "outputId": "06a381e7-e36f-4f2f-d711-447cbb28b992",
    "slideshow": {
     "slide_type": "fragment"
    }
   },
   "outputs": [
    {
     "data": {
      "text/plain": [
       "True"
      ]
     },
     "execution_count": 95,
     "metadata": {},
     "output_type": "execute_result"
    }
   ],
   "source": [
    "np.allclose(x, x_new) and np.allclose(y, y_new) and np.allclose(z, z_new)"
   ]
  }
 ],
 "metadata": {
  "celltoolbar": "Слайд-шоу",
  "colab": {
   "collapsed_sections": [],
   "name": "Numpy.ipynb",
   "provenance": []
  },
  "kernelspec": {
   "display_name": "Python 3 (ipykernel)",
   "language": "python",
   "name": "python3"
  },
  "language_info": {
   "codemirror_mode": {
    "name": "ipython",
    "version": 3
   },
   "file_extension": ".py",
   "mimetype": "text/x-python",
   "name": "python",
   "nbconvert_exporter": "python",
   "pygments_lexer": "ipython3",
   "version": "3.9.12"
  }
 },
 "nbformat": 4,
 "nbformat_minor": 1
}
